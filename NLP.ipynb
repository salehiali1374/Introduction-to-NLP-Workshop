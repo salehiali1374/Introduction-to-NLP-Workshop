{
  "nbformat": 4,
  "nbformat_minor": 0,
  "metadata": {
    "colab": {
      "provenance": []
    },
    "kernelspec": {
      "name": "python3",
      "display_name": "Python 3"
    },
    "language_info": {
      "name": "python"
    }
  },
  "cells": [
    {
      "cell_type": "markdown",
      "source": [
        "# Text Mining\n",
        "\n",
        "## Introduction\n",
        "\n",
        "Text mining, also known as text data mining or text analytics, is the process of extracting valuable insights and information from unstructured text data. It involves transforming text into a structured format, which can then be analyzed using various data mining, machine learning, and natural language processing (NLP) techniques.\n",
        "\n",
        "The primary goal of text mining is to discover patterns, trends, and relationships within text data that can help in decision-making and knowledge discovery. Common applications include sentiment analysis, topic modeling, text classification, and named entity recognition.\n",
        "\n",
        "## Key Steps in Text Mining\n",
        "\n",
        "1. **Text Preprocessing**: This involves cleaning and preparing the text data for analysis. Common steps include:\n",
        "   - **Tokenization**: Splitting the text into individual words or tokens.\n",
        "   - **Lowercasing**: Converting all text to lowercase to maintain uniformity.\n",
        "   - **Removing Stopwords**: Eliminating common words like 'and', 'the', 'is', etc., that do not add much meaning to the analysis.\n",
        "   - **Stemming and Lemmatization**: Reducing words to their root form to ensure consistency (e.g., 'running' to 'run').\n",
        "\n",
        "2. **Feature Extraction**: Transforming text into numerical representations that can be used in machine learning models. Common techniques include:\n",
        "   - **Bag of Words (BoW)**: Representing text as a collection of words, ignoring grammar and word order but keeping multiplicity.\n",
        "   - **Term Frequency-Inverse Document Frequency (TF-IDF)**: A statistical measure that evaluates the importance of a word in a document relative to a collection of documents.\n",
        "   - **Word Embeddings**: Converting text into dense vectors that capture semantic meaning, using techniques like Word2Vec, GloVe, or BERT.\n",
        "\n",
        "3. **Text Analysis**: Applying various algorithms and techniques to analyze the text data:\n",
        "   - **Text Classification**: Categorizing text into predefined classes, such as spam vs. not spam.\n",
        "   - **Sentiment Analysis**: Determining the sentiment or emotion expressed in the text, such as positive, negative, or neutral.\n",
        "   - **Topic Modeling**: Identifying underlying themes or topics within a set of documents.\n",
        "\n",
        "4. **Evaluation and Interpretation**: Assessing the performance of the models and interpreting the results to make informed decisions or provide actionable insights.\n",
        "\n",
        "## Applications of Text Mining\n",
        "\n",
        "- **Customer Feedback Analysis**: Understanding customer sentiments and opinions from reviews or surveys.\n",
        "- **Document Classification**: Automating the categorization of documents into topics or genres.\n",
        "- **Information Retrieval**: Enhancing search engines by identifying relevant information quickly from large text datasets.\n",
        "- **Market Analysis**: Analyzing trends and sentiments from news articles, social media, and other text sources.\n",
        "\n",
        "Text mining is a powerful tool that enables businesses and researchers to make sense of large volumes of unstructured text data, providing deeper insights and improving decision-making processes.\n"
      ],
      "metadata": {
        "id": "iTmbXVKvJRoa"
      }
    },
    {
      "cell_type": "markdown",
      "source": [
        "## Why Use Python for Text Mining?\n",
        "\n",
        "In this workshop, we will be using Python as our primary programming language for text mining. Python is widely recognized as one of the most popular and versatile languages for data analysis, machine learning, and natural language processing. Here are some key reasons why Python is a preferred choice for text mining:\n",
        "\n",
        "- **Most Popular Language**: Python consistently ranks as one of the most popular programming languages in the world, particularly in the fields of data science and machine learning.\n",
        "\n",
        "- **Open Source**: Python is open source, meaning it is free to install and use, making it accessible for everyone.\n",
        "\n",
        "- **Awesome Online Community**: Python has a vast and supportive online community. Whether you are a beginner or an expert, you can find tutorials, forums, and documentation to help you along the way.\n",
        "\n",
        "- **Very Easy to Learn**: Python's simple and readable syntax makes it easy to learn, even for those who are new to programming.\n",
        "\n",
        "- **Free Data Analysis Libraries**: Python boasts a rich ecosystem of libraries that are specifically designed for data analysis, such as:\n",
        "  - **Pandas**: For data manipulation and analysis.\n",
        "  - **NumPy**: For numerical computations.\n",
        "  - **NLTK and SpaCy**: For natural language processing tasks.\n",
        "  - **scikit-learn**: For machine learning.\n",
        "\n",
        "- **Abundance of Libraries**: The Python ecosystem includes numerous libraries and frameworks that make it easy to perform complex tasks with minimal effort.\n",
        "\n",
        "- **Interpreted Language**: Python is an interpreted language, which means that it executes code line by line. This can take up more CPU time compared to compiled languages, but it also makes the development process faster and more interactive.\n",
        "\n",
        "Python's combination of simplicity, power, and a supportive community makes it an excellent choice for anyone looking to explore text mining and data analysis.\n"
      ],
      "metadata": {
        "id": "uYbV-o_MKAGk"
      }
    },
    {
      "cell_type": "markdown",
      "source": [
        "## Installing Libraries: Pip and Anaconda\n",
        "\n",
        "To perform text mining in Python, you'll need various libraries that can be installed using package managers like `pip` or Anaconda. Here's an overview of both:\n",
        "\n",
        "### Pip\n",
        "\n",
        "`pip` is the default package installer for Python and is used to install and manage Python packages from the Python Package Index (PyPI). It is simple to use and is available out of the box with Python installations.\n",
        "\n",
        "**Example of Installing Libraries with Pip:**\n",
        "\n",
        "To install the libraries required for text mining, such as `pandas`, `numpy`, `nltk`, and `scikit-learn`, you can use the following commands in your terminal or command prompt:\n",
        "\n",
        "```\n",
        "pip install pandas numpy nltk scikit-learn\n",
        "```\n",
        "\n",
        "\n",
        "This command will download and install the specified libraries and their dependencies.\n",
        "\n",
        "### Anaconda\n",
        "`Anaconda` is a distribution of `Python` and `R` for scientific computing and data science. It comes with a package manager called `conda`, which can manage packages, dependencies, and environments. Anaconda is especially popular for managing environments and packages in data science workflows.\n",
        "\n",
        "Example of Installing Libraries with Anaconda:\n",
        "\n",
        "To install the same libraries using Anaconda, you can use the conda command:\n",
        "```\n",
        "conda install pandas numpy nltk scikit-learn\n",
        "```\n",
        "This will fetch the packages from the Anaconda repository and install them into your environment.\n",
        "\n",
        "#### Choosing Between Pip and Anaconda\n",
        "Pip is more lightweight and directly installs packages from PyPI. It's ideal if you're using virtual environments and prefer a minimal setup.\n",
        "Anaconda comes with many pre-installed packages and is great for managing isolated environments, especially when working with complex dependencies. It’s often preferred in data science due to its ease of setting up environments.\n",
        "\n",
        "### For this workshop, we will primarily use pip for installing necessary libraries within the Colab environment."
      ],
      "metadata": {
        "id": "YFEdOJt7KaM-"
      }
    },
    {
      "cell_type": "markdown",
      "source": [
        "## Text Mining Steps\n",
        "\n",
        "Text mining involves several key steps to extract insights from text data:\n",
        "\n",
        "1. **Get Corpus (Data)**:\n",
        "   - Collect text data from sources like files, websites, or APIs.\n",
        "\n",
        "2. **Preprocessing**:\n",
        "   - Clean and prepare the text using techniques such as:\n",
        "     - **Tokenization**: Splitting text into words or sentences.\n",
        "     - **Lowercasing**: Converting text to lowercase.\n",
        "     - **Stopword Removal**: Removing common words that add little meaning.\n",
        "     - **Stemming/Lemmatization**: Reducing words to their root form.\n",
        "\n",
        "3. **Model Construction**:\n",
        "   - Build models to analyze the text, such as:\n",
        "     - **Classification**: Categorizing text.\n",
        "     - **Sentiment Analysis**: Determining text sentiment.\n",
        "     - **Clustering/Topic Modeling**: Grouping similar texts or finding topics.\n",
        "\n",
        "4. **Show the Result**:\n",
        "   - Visualize and interpret the results using graphs, word clouds, or reports.\n"
      ],
      "metadata": {
        "id": "nUd6K-amL06b"
      }
    },
    {
      "cell_type": "markdown",
      "source": [
        "### Get Corpus\n",
        "\n",
        "The first step in text mining is to obtain your raw data, which is the text source you want to analyze. This could include blogs, news articles, tweets, reviews, or any other text-rich sources.\n",
        "\n",
        "Some common tools and libraries for collecting text data include:\n",
        "\n",
        "- **NLTK**: A powerful library for working with human language data. It includes tools for importing and processing text from various sources.\n",
        "  \n",
        "- **Pattern**: A web mining module for Python that offers tools for scraping data, natural language processing, and more.\n",
        "  \n",
        "- **Tweepy**: A library for accessing Twitter's API to collect tweets for analysis.\n",
        "\n",
        "- **Beautiful Soup**: Useful for web scraping and extracting text data from HTML and XML files.\n",
        "\n",
        "These tools help streamline the process of gathering text data from diverse sources, setting the stage for further analysis.\n"
      ],
      "metadata": {
        "id": "ZvSvzFZSMGJq"
      }
    },
    {
      "cell_type": "code",
      "source": [
        "# Importing NLTK\n",
        "import nltk\n",
        "\n",
        "# Downloading NLTK datasets and resources\n",
        "nltk.download('punkt')"
      ],
      "metadata": {
        "id": "qxdsowXpJj0S",
        "colab": {
          "base_uri": "https://localhost:8080/"
        },
        "outputId": "19f0fcf7-5353-4953-f57f-8e69878e9028"
      },
      "execution_count": 4,
      "outputs": [
        {
          "output_type": "stream",
          "name": "stderr",
          "text": [
            "[nltk_data] Downloading package punkt to /root/nltk_data...\n",
            "[nltk_data]   Package punkt is already up-to-date!\n"
          ]
        },
        {
          "output_type": "execute_result",
          "data": {
            "text/plain": [
              "True"
            ]
          },
          "metadata": {},
          "execution_count": 4
        }
      ]
    },
    {
      "cell_type": "markdown",
      "source": [
        "### Get Corpus: NLTK Gutenberg Corpus\n",
        "\n",
        "To work with text data from the Gutenberg corpus using NLTK, follow these steps:\n",
        "\n",
        "1. **Import the Gutenberg Corpus**: You need to import the corpus from NLTK and list available files.\n"
      ],
      "metadata": {
        "id": "SYQ7e7-_NgSr"
      }
    },
    {
      "cell_type": "code",
      "source": [
        "# Importing the Gutenberg corpus from NLTK\n",
        "from nltk.corpus import gutenberg\n",
        "nltk.download('gutenberg')\n",
        "\n",
        "# Listing all available files in the Gutenberg corpus\n",
        "print(gutenberg.fileids())"
      ],
      "metadata": {
        "id": "2sx2rMuOMhxd",
        "colab": {
          "base_uri": "https://localhost:8080/"
        },
        "outputId": "7555809e-e8a1-4969-b712-de25a4d1c90d"
      },
      "execution_count": 5,
      "outputs": [
        {
          "output_type": "stream",
          "name": "stdout",
          "text": [
            "['austen-emma.txt', 'austen-persuasion.txt', 'austen-sense.txt', 'bible-kjv.txt', 'blake-poems.txt', 'bryant-stories.txt', 'burgess-busterbrown.txt', 'carroll-alice.txt', 'chesterton-ball.txt', 'chesterton-brown.txt', 'chesterton-thursday.txt', 'edgeworth-parents.txt', 'melville-moby_dick.txt', 'milton-paradise.txt', 'shakespeare-caesar.txt', 'shakespeare-hamlet.txt', 'shakespeare-macbeth.txt', 'whitman-leaves.txt']\n"
          ]
        },
        {
          "output_type": "stream",
          "name": "stderr",
          "text": [
            "[nltk_data] Downloading package gutenberg to /root/nltk_data...\n",
            "[nltk_data]   Package gutenberg is already up-to-date!\n"
          ]
        }
      ]
    },
    {
      "cell_type": "markdown",
      "source": [
        "2. **Access Text Data**: You can access specific text files and retrieve words from them. For example, to access the words from austen-emma.txt:"
      ],
      "metadata": {
        "id": "6CCDxhWLUZgB"
      }
    },
    {
      "cell_type": "code",
      "source": [
        "# Example: Accessing the words from 'austen-emma.txt'\n",
        "emma = gutenberg.words('austen-emma.txt')\n",
        "print(emma[:20])  # Display the first 20 words from 'austen-emma.txt'"
      ],
      "metadata": {
        "id": "eu4iwP-lT8n_",
        "colab": {
          "base_uri": "https://localhost:8080/"
        },
        "outputId": "a161ad06-10ef-426f-d31a-5c2cb94fb004"
      },
      "execution_count": 6,
      "outputs": [
        {
          "output_type": "stream",
          "name": "stdout",
          "text": [
            "['[', 'Emma', 'by', 'Jane', 'Austen', '1816', ']', 'VOLUME', 'I', 'CHAPTER', 'I', 'Emma', 'Woodhouse', ',', 'handsome', ',', 'clever', ',', 'and', 'rich']\n"
          ]
        }
      ]
    },
    {
      "cell_type": "markdown",
      "source": [
        "3. **Analyze Text Data**: To analyze each file in the Gutenberg corpus, calculate the number of characters, words, and sentences. You can also compute average word length and sentence length for each file:"
      ],
      "metadata": {
        "id": "mvGWRxMXUsQq"
      }
    },
    {
      "cell_type": "code",
      "source": [
        "import nltk\n",
        "nltk.download('punkt_tab')\n",
        "# Analyzing each file in the Gutenberg corpus\n",
        "for fileid in gutenberg.fileids():\n",
        "    num_chars = len(gutenberg.raw(fileid))  # Total number of characters\n",
        "    num_words = len(gutenberg.words(fileid))  # Total number of words\n",
        "    num_sents = len(gutenberg.sents(fileid))  # Total number of sentences\n",
        "\n",
        "    # Calculating average word length and average sentence length\n",
        "    avg_word_length = round(num_chars / num_words)\n",
        "    avg_sentence_length = round(num_words / num_sents)\n",
        "\n",
        "    # Printing the results\n",
        "    print(f\"{avg_word_length} {avg_sentence_length} {fileid}\")"
      ],
      "metadata": {
        "id": "b-UdrK1jT9XX",
        "colab": {
          "base_uri": "https://localhost:8080/"
        },
        "outputId": "9dfee9a6-f453-489e-9931-b9eae2747e04"
      },
      "execution_count": 7,
      "outputs": [
        {
          "output_type": "stream",
          "name": "stderr",
          "text": [
            "[nltk_data] Downloading package punkt_tab to /root/nltk_data...\n",
            "[nltk_data]   Package punkt_tab is already up-to-date!\n"
          ]
        },
        {
          "output_type": "stream",
          "name": "stdout",
          "text": [
            "5 25 austen-emma.txt\n",
            "5 26 austen-persuasion.txt\n",
            "5 28 austen-sense.txt\n",
            "4 34 bible-kjv.txt\n",
            "5 19 blake-poems.txt\n",
            "4 19 bryant-stories.txt\n",
            "4 18 burgess-busterbrown.txt\n",
            "4 20 carroll-alice.txt\n",
            "5 20 chesterton-ball.txt\n",
            "5 23 chesterton-brown.txt\n",
            "5 18 chesterton-thursday.txt\n",
            "4 21 edgeworth-parents.txt\n",
            "5 26 melville-moby_dick.txt\n",
            "5 52 milton-paradise.txt\n",
            "4 12 shakespeare-caesar.txt\n",
            "4 12 shakespeare-hamlet.txt\n",
            "4 12 shakespeare-macbeth.txt\n",
            "5 36 whitman-leaves.txt\n"
          ]
        }
      ]
    },
    {
      "cell_type": "markdown",
      "source": [
        "### Get Corpus: NLTK Web Text\n",
        "\n",
        "To work with the Web Text corpus using NLTK, follow these steps:\n",
        "\n",
        "1. **Import the Web Text Corpus**: Start by importing the Web Text corpus and listing available files.\n"
      ],
      "metadata": {
        "id": "RMIBVQerUzpn"
      }
    },
    {
      "cell_type": "code",
      "source": [
        "# Download the Web Text corpus\n",
        "nltk.download('webtext')"
      ],
      "metadata": {
        "id": "PWojLOXnVVPp",
        "colab": {
          "base_uri": "https://localhost:8080/"
        },
        "outputId": "98def983-24da-4184-b81a-169fc6ae5456"
      },
      "execution_count": 8,
      "outputs": [
        {
          "output_type": "stream",
          "name": "stderr",
          "text": [
            "[nltk_data] Downloading package webtext to /root/nltk_data...\n",
            "[nltk_data]   Package webtext is already up-to-date!\n"
          ]
        },
        {
          "output_type": "execute_result",
          "data": {
            "text/plain": [
              "True"
            ]
          },
          "metadata": {},
          "execution_count": 8
        }
      ]
    },
    {
      "cell_type": "code",
      "source": [
        "from nltk.corpus import webtext\n",
        "\n",
        "# List all available files in the Web Text corpus\n",
        "for fileid in webtext.fileids():\n",
        "    print(fileid)"
      ],
      "metadata": {
        "id": "CkxFU6VyNn8K",
        "colab": {
          "base_uri": "https://localhost:8080/"
        },
        "outputId": "45e4c108-1c87-4fc4-ef4f-9f924416efe1"
      },
      "execution_count": 9,
      "outputs": [
        {
          "output_type": "stream",
          "name": "stdout",
          "text": [
            "firefox.txt\n",
            "grail.txt\n",
            "overheard.txt\n",
            "pirates.txt\n",
            "singles.txt\n",
            "wine.txt\n"
          ]
        }
      ]
    },
    {
      "cell_type": "markdown",
      "source": [
        "2. **Access and Display Text Data**: Retrieve and display a snippet of text from each file in the Web Text corpus to understand its content."
      ],
      "metadata": {
        "id": "jgORHVMzVZaJ"
      }
    },
    {
      "cell_type": "code",
      "source": [
        "for fileid in webtext.fileids():\n",
        "    print(fileid, webtext.raw(fileid)[:65], '...')"
      ],
      "metadata": {
        "id": "P6oYgNdYVCyc",
        "colab": {
          "base_uri": "https://localhost:8080/"
        },
        "outputId": "b56960dd-b4fc-4626-a0ca-f2ceee08802c"
      },
      "execution_count": 10,
      "outputs": [
        {
          "output_type": "stream",
          "name": "stdout",
          "text": [
            "firefox.txt Cookie Manager: \"Don't allow sites that set removed cookies to se ...\n",
            "grail.txt SCENE 1: [wind] [clop clop clop] \n",
            "KING ARTHUR: Whoa there!  [clop ...\n",
            "overheard.txt White guy: So, do you have any plans for this evening?\n",
            "Asian girl ...\n",
            "pirates.txt PIRATES OF THE CARRIBEAN: DEAD MAN'S CHEST, by Ted Elliott & Terr ...\n",
            "singles.txt 25 SEXY MALE, seeks attrac older single lady, for discreet encoun ...\n",
            "wine.txt Lovely delicate, fragrant Rhone wine. Polished leather and strawb ...\n"
          ]
        }
      ]
    },
    {
      "cell_type": "markdown",
      "source": [
        "### Get Corpus: NLTK Chat Text\n",
        "\n",
        "To work with the Chat Text corpus using NLTK, follow these steps:\n",
        "\n",
        "1. **Import the Chat Text Corpus**: Load the corpus and select a specific chatroom to analyze. For example, you can access the chatroom data from the `10-19-20s_706posts.xml` file.\n",
        "   \n"
      ],
      "metadata": {
        "id": "IrdtUvn_WQca"
      }
    },
    {
      "cell_type": "code",
      "source": [
        "nltk.download('nps_chat')"
      ],
      "metadata": {
        "id": "fUNESmuQWbof",
        "colab": {
          "base_uri": "https://localhost:8080/"
        },
        "outputId": "279bfc44-4aa5-4584-cbbd-001e3f2d9b0e"
      },
      "execution_count": 11,
      "outputs": [
        {
          "output_type": "stream",
          "name": "stderr",
          "text": [
            "[nltk_data] Downloading package nps_chat to /root/nltk_data...\n",
            "[nltk_data]   Package nps_chat is already up-to-date!\n"
          ]
        },
        {
          "output_type": "execute_result",
          "data": {
            "text/plain": [
              "True"
            ]
          },
          "metadata": {},
          "execution_count": 11
        }
      ]
    },
    {
      "cell_type": "code",
      "source": [
        "from nltk.corpus import nps_chat\n",
        "\n",
        "# Load the chatroom data from the specified file\n",
        "chatroom = nps_chat.posts('10-19-20s_706posts.xml')"
      ],
      "metadata": {
        "id": "M9HjrkdQWWhE"
      },
      "execution_count": 12,
      "outputs": []
    },
    {
      "cell_type": "code",
      "source": [
        "# Display a specific post from the chatroom\n",
        "print(chatroom[123])"
      ],
      "metadata": {
        "id": "ld6mtu8aWYao",
        "colab": {
          "base_uri": "https://localhost:8080/"
        },
        "outputId": "dcfe813c-b8b8-4c15-cce6-5ccbc5dfa784"
      },
      "execution_count": 13,
      "outputs": [
        {
          "output_type": "stream",
          "name": "stdout",
          "text": [
            "['i', 'do', \"n't\", 'want', 'hot', 'pics', 'of', 'a', 'female', ',', 'I', 'can', 'look', 'in', 'a', 'mirror', '.']\n"
          ]
        }
      ]
    },
    {
      "cell_type": "markdown",
      "source": [
        "#### Get Corpus: NLTK Brown Corpus\n",
        "The Brown Corpus is a collection of texts from various genres and is widely used for linguistic research. To access it:\n",
        "\n",
        "```python\n",
        "from nltk.corpus import brown\n",
        "\n",
        "# List all categories in the Brown Corpus\n",
        "print(brown.categories())\n",
        "\n",
        "# Access and display words from a specific category, e.g., 'news'\n",
        "print(brown.words(categories='news')[:20])\n"
      ],
      "metadata": {
        "id": "dcigE4LIXQBy"
      }
    },
    {
      "cell_type": "markdown",
      "source": [
        "#### Get Corpus: NLTK Reuters Corpus\n",
        "The Reuters Corpus contains news documents from Reuters. To work with it:\n",
        "``` python\n",
        "from nltk.corpus import reuters\n",
        "\n",
        "# List all file IDs in the Reuters Corpus\n",
        "print(reuters.fileids())\n",
        "\n",
        "# Access and display words from a specific file, e.g., 'test/14826'\n",
        "print(reuters.words('test/14826')[:20])\n"
      ],
      "metadata": {
        "id": "WulRGVa_XkQK"
      }
    },
    {
      "cell_type": "markdown",
      "source": [
        "#### Get Corpus: NLTK Loading Your Own Corpus\n",
        "You can also load your own corpus using PlaintextCorpusReader. Here’s how to do it:\n",
        "\n",
        "**Prepare Your Corpus**: Place your text files in a directory.\n",
        "\n",
        "**Load Your Corpus**: Use PlaintextCorpusReader to read the files from your directory.\n",
        "\n",
        "``` python\n",
        "from nltk.corpus import PlaintextCorpusReader\n",
        "\n",
        "# Define the root directory where your corpus files are located\n",
        "corpus_root = '/usr/share/dict'\n",
        "\n",
        "# Create a PlaintextCorpusReader instance\n",
        "wordlists = PlaintextCorpusReader(corpus_root, '.*')\n",
        "\n",
        "# List all available files\n",
        "print(wordlists.fileids())\n",
        "\n",
        "# Access and display words from a specific file, e.g., 'connectives'\n",
        "print(wordlists.words('connectives')[:20])\n"
      ],
      "metadata": {
        "id": "HDgeWzLwX9jF"
      }
    },
    {
      "cell_type": "markdown",
      "source": [
        "### Get Corpus: Tweepy\n",
        "\n",
        "Tweepy is a powerful library for web mining, natural language processing, and more. Here’s how you can use it for various tasks:\n",
        "\n",
        "#### Web Scraping with Tweepy\n",
        "\n",
        "1. **Download Web Page Content**: You can download and parse HTML content from a URL.\n",
        "\n",
        "   ``` python\n",
        "    import tweepy\n",
        "    # Replace these values with your Twitter API credentials\n",
        "    API_KEY = 'your_api_key'\n",
        "    API_SECRET_KEY = 'your_api_secret_key'\n",
        "    ACCESS_TOKEN = 'your_access_token'\n",
        "    ACCESS_TOKEN_SECRET = 'your_access_token_secret'\n",
        "\n",
        "    # Authenticate with Twitter\n",
        "    auth = tweepy.OAuth1UserHandler(API_KEY, API_SECRET_KEY, ACCESS_TOKEN, ACCESS_TOKEN_SECRET)\n",
        "    api = tweepy.API(auth)\n",
        "\n",
        "    # Search for tweets containing the phrase 'more important than'\n",
        "    for tweet in tweepy.Cursor(api.search, q='more important than', lang='en').items(10):\n",
        "      print(tweet.text)\n",
        "   ```\n",
        "This code authenticates with Twitter, searches for tweets containing the phrase \"more important than,\" and prints out the text of each tweet."
      ],
      "metadata": {
        "id": "HIICtEgRZJ4P"
      }
    },
    {
      "cell_type": "markdown",
      "source": [
        "## Preprocessing\n",
        "\n",
        "### 1. Noise Removal\n",
        "**Noise Removal** involves cleaning the text data by removing unwanted elements such as HTML tags, special characters, and other irrelevant information.\n",
        "\n",
        "- **BeautifulSoup**: Useful for parsing and extracting text from HTML and XML files.\n",
        "\n",
        "### 2. Use NLP Tools\n",
        "Various NLP tools can be used for text preprocessing, including tokenization, lemmatization, and sentiment analysis:\n",
        "\n",
        "- **SpaCy**: An open-source library for advanced NLP tasks.\n",
        "- **Pattern**: A library for NLP, web mining, and machine learning.\n",
        "- **NLTK**: The Natural Language Toolkit, used for text processing and linguistic data analysis.\n",
        "- **TextBlob**: A library for processing textual data and performing common NLP tasks.\n",
        "- **Polyglot**: A library for multilingual NLP.\n",
        "\n",
        "### Document Formats\n",
        "Text data can come from a variety of sources, including:\n",
        "\n",
        "- Web pages\n",
        "- Weblogs\n",
        "- News articles\n",
        "- Emails\n",
        "- Social media posts\n",
        "- Journal articles\n",
        "- etc.\n"
      ],
      "metadata": {
        "id": "IGhi5TVJgn5V"
      }
    },
    {
      "cell_type": "markdown",
      "source": [
        "### Noise Removal: BeautifulSoup\n",
        "\n",
        "  **Example:**\n",
        "\n",
        "  ```python\n",
        "  from bs4 import BeautifulSoup\n",
        "\n",
        "  html_doc = \"\"\"<!DOCTYPE html>\n",
        "  <html> <head> </head>\n",
        "  <body>\n",
        "  <h1> First Scraping </h1>\n",
        "  <p> Hello World </p>\n",
        "  </body>\n",
        "  </html>\"\"\"\n",
        "  \n",
        "  soup = BeautifulSoup(html_doc, 'html.parser')\n",
        "  print(soup.get_text())\n"
      ],
      "metadata": {
        "id": "Opl8c9JohK1K"
      }
    },
    {
      "cell_type": "code",
      "source": [
        "from bs4 import BeautifulSoup\n",
        "\n",
        "html_doc = \"\"\"<!DOCTYPE html>\n",
        "<html> <head> </head>\n",
        "<body>\n",
        "<h1> First Scraping </h1>\n",
        "<p> Hello World </p>\n",
        "</body>\n",
        "</html>\"\"\"\n",
        "\n",
        "soup = BeautifulSoup(html_doc, 'html.parser')\n",
        "print(soup.get_text())"
      ],
      "metadata": {
        "id": "ISzUuKzYdmlb",
        "colab": {
          "base_uri": "https://localhost:8080/"
        },
        "outputId": "2575088f-54cd-4ca3-f24d-c62ecf53023b"
      },
      "execution_count": 14,
      "outputs": [
        {
          "output_type": "stream",
          "name": "stdout",
          "text": [
            "\n",
            "  \n",
            "\n",
            " First Scraping \n",
            " Hello World \n",
            "\n",
            "\n"
          ]
        }
      ]
    },
    {
      "cell_type": "markdown",
      "source": [
        "## Use NLP Tools\n",
        "\n",
        "Various NLP tools and techniques for text preprocessing include:\n",
        "\n",
        "- **Tokenization**: Splitting text into words, phrases, symbols, or other meaningful elements.\n",
        "- **Removing Stopwords**: Eliminating common words that may not carry significant meaning in the context (e.g., \"the\", \"and\", \"in\").\n",
        "- **Lexicon Normalization**:\n",
        "  - **Stemming**: Reducing words to their base or root form by removing prefixes or suffixes.\n",
        "  - **Lemmatization**: Reducing words to their base or dictionary form, considering the context.\n",
        "- **POS Tagging**: Assigning parts of speech (e.g., nouns, verbs) to each word in a text.\n",
        "- **Named Entity Recognition (NER)**: Identifying and classifying entities (e.g., names, dates) in text.\n",
        "- **Dependency Parsing**: Analyzing the grammatical structure of a sentence to establish relationships between words.\n",
        "- **...** (Other NLP techniques)\n"
      ],
      "metadata": {
        "id": "xUFHKqfSh5tT"
      }
    },
    {
      "cell_type": "markdown",
      "source": [
        "## Preprocessing: spacy\n",
        "\n",
        "**spacy** is a powerful NLP library that performs several preprocessing tasks efficiently:\n",
        "\n",
        "- **Tokenization**: Splitting text into individual tokens (words, punctuation, etc.).\n",
        "- **Sentence Recognition**: Identifying and splitting text into sentences.\n",
        "- **Part of Speech Tagging**: Assigning parts of speech (e.g., nouns, verbs) to each token.\n",
        "- **Lemmatization**: Reducing tokens to their base or dictionary form.\n",
        "- **Dependency Parsing**: Analyzing the grammatical structure of sentences to establish relationships between tokens.\n",
        "- **Named Entity Recognition (NER)**: Identifying and classifying named entities (e.g., names, dates) in the text.\n",
        "\n",
        "spaCy performs all these tasks simultaneously, making it an efficient tool for comprehensive text preprocessing."
      ],
      "metadata": {
        "id": "u2DFxoVXiQDw"
      }
    },
    {
      "cell_type": "code",
      "source": [
        "import spacy\n",
        "nlp = spacy.load(\"en_core_web_sm\")\n",
        "text = nlp(u'Apple is looking at buying U.K. startup for $1 billion.')\n",
        "for token in text:\n",
        "  print(token.text, token.is_stop, token.lemma_, token.pos_, token.tag_, token.dep_)"
      ],
      "metadata": {
        "id": "MfI5wr7XhXgV",
        "colab": {
          "base_uri": "https://localhost:8080/"
        },
        "outputId": "969d5ed8-f96b-46db-ab1b-2de7324ffb29"
      },
      "execution_count": 15,
      "outputs": [
        {
          "output_type": "stream",
          "name": "stdout",
          "text": [
            "Apple False Apple PROPN NNP nsubj\n",
            "is True be AUX VBZ aux\n",
            "looking False look VERB VBG ROOT\n",
            "at True at ADP IN prep\n",
            "buying False buy VERB VBG pcomp\n",
            "U.K. False U.K. PROPN NNP dobj\n",
            "startup False startup NOUN NN dep\n",
            "for True for ADP IN prep\n",
            "$ False $ SYM $ quantmod\n",
            "1 False 1 NUM CD compound\n",
            "billion False billion NUM CD pobj\n",
            ". False . PUNCT . punct\n"
          ]
        }
      ]
    },
    {
      "cell_type": "markdown",
      "source": [
        "## Output Explanation\n",
        "\n",
        "When running the spaCy code, the following information is printed for each token in the text. Here's a breakdown of what each attribute represents:\n",
        "\n",
        "### Attributes\n",
        "\n",
        "1. **`token.text`**: The original text of the token.\n",
        "\n",
        "2. **`token.is_stop`**: Boolean value indicating if the token is a stopword (common words like \"is\", \"the\", \"and\" that are often removed in text analysis).\n",
        "\n",
        "3. **`token.lemma_`**: The base or dictionary form of the token. For example, \"buying\" becomes \"buy\".\n",
        "\n",
        "4. **`token.pos_`**: The part of speech for the token (e.g., noun, verb, adjective). This provides information about the grammatical role of the token.\n",
        "\n",
        "5. **`token.tag_`**: The detailed part-of-speech tag, which provides more specific information about the token's grammatical role.\n",
        "\n",
        "6. **`token.dep_`**: The syntactic dependency relation of the token to its head. This describes the token's grammatical relationship to other tokens in the sentence.\n"
      ],
      "metadata": {
        "id": "yUKudhyjjVaj"
      }
    },
    {
      "cell_type": "markdown",
      "source": [
        "## Named Entity Recognition (NER) with spacy\n",
        "\n",
        "The following code demonstrates how to use spacy for Named Entity Recognition (NER). NER identifies and categorizes named entities (e.g., people, organizations, locations) in a text.\n"
      ],
      "metadata": {
        "id": "wqHqJQkzjzHR"
      }
    },
    {
      "cell_type": "code",
      "source": [
        "import spacy\n",
        "\n",
        "# Load the spaCy model\n",
        "nlp = spacy.load(\"en_core_web_sm\")\n",
        "\n",
        "# Process the text\n",
        "text = nlp(u'Apple is looking at buying U.K. startup for $1 billion.')\n",
        "\n",
        "# Print named entities and their details\n",
        "for ent in text.ents:\n",
        "    print(ent.text, ent.label_, ent.start_char, ent.end_char)"
      ],
      "metadata": {
        "id": "5fRAFW7jih74",
        "colab": {
          "base_uri": "https://localhost:8080/"
        },
        "outputId": "945d4f40-bf31-46b0-eb83-0081ebeefc28"
      },
      "execution_count": 16,
      "outputs": [
        {
          "output_type": "stream",
          "name": "stdout",
          "text": [
            "Apple ORG 0 5\n",
            "U.K. GPE 27 31\n",
            "$1 billion MONEY 44 54\n"
          ]
        }
      ]
    },
    {
      "cell_type": "markdown",
      "source": [
        "### Output Explanation\n",
        "\n",
        "When running the code, the following information about each named entity is printed:\n",
        "\n",
        "1. **`ent.text`**: The text of the named entity (e.g., \"Apple\", \"U.K.\", \"$1 billion\").\n",
        "\n",
        "2. **`ent.label_`**: The label or type of the named entity (e.g., ORG for organization, GPE for geopolitical entity, MONEY for monetary value).\n",
        "\n",
        "3. **`ent.start_char`**: The character offset where the named entity starts in the text.\n",
        "\n",
        "4. **`ent.end_char`**: The character offset where the named entity ends in the text."
      ],
      "metadata": {
        "id": "K-cEdkaFkIdt"
      }
    },
    {
      "cell_type": "markdown",
      "source": [
        "## Preprocessing (NLTK)\n",
        "\n",
        "- **The ‘mother’ of all NLP libraries**: NLTK (Natural Language Toolkit) is one of the most comprehensive and widely used libraries for natural language processing. It provides easy access to a wealth of resources and tools for handling various NLP tasks.\n",
        "\n",
        "- **Educational purposes**: NLTK is particularly well-suited for educational and research purposes. Its extensive documentation and resources make it a popular choice for learning and teaching NLP concepts.\n",
        "\n",
        "- **De facto standard for many NLP tasks**: NLTK has become a standard library in the NLP community due to its rich set of functionalities, including tokenization, tagging, parsing, and more. It serves as a foundation for many NLP applications and research projects.\n",
        "\n",
        "NLTK includes:\n",
        "- Tokenization\n",
        "- Stopword removal\n",
        "- Part-of-speech tagging\n",
        "- Named entity recognition (NER)\n",
        "- Parsing\n",
        "- Text classification\n",
        "- And more\n"
      ],
      "metadata": {
        "id": "0iN2tK3xlf0J"
      }
    },
    {
      "cell_type": "code",
      "source": [
        "from nltk.tokenize import word_tokenize, sent_tokenize\n",
        "\n",
        "# Sample text\n",
        "data = \"All work and no play makes jack a dull boy. all work and no play\"\n",
        "\n",
        "# Word tokenization\n",
        "word_tokens = word_tokenize(data)\n",
        "print(\"Word Tokens:\")\n",
        "print(word_tokens)\n",
        "\n",
        "# Sentence tokenization\n",
        "sent_tokens = sent_tokenize(data)\n",
        "print(\"Sentence Tokens:\")\n",
        "print(sent_tokens)"
      ],
      "metadata": {
        "id": "cD0tJkQgkzpl",
        "colab": {
          "base_uri": "https://localhost:8080/"
        },
        "outputId": "ec1fc56c-32a9-4830-e72c-c56e258f7d15"
      },
      "execution_count": 17,
      "outputs": [
        {
          "output_type": "stream",
          "name": "stdout",
          "text": [
            "Word Tokens:\n",
            "['All', 'work', 'and', 'no', 'play', 'makes', 'jack', 'a', 'dull', 'boy', '.', 'all', 'work', 'and', 'no', 'play']\n",
            "Sentence Tokens:\n",
            "['All work and no play makes jack a dull boy.', 'all work and no play']\n"
          ]
        }
      ]
    },
    {
      "cell_type": "code",
      "source": [
        "from nltk.corpus import stopwords\n",
        "nltk.download('stopwords')\n",
        "\n",
        "# Define stopwords\n",
        "stopWords = set(stopwords.words('english'))\n",
        "\n",
        "# Tokenize the text into words\n",
        "words = word_tokenize(data)\n",
        "\n",
        "# Filter out stopwords\n",
        "wordsFiltered = []\n",
        "for w in words:\n",
        "    if w.lower() not in stopWords:\n",
        "        wordsFiltered.append(w)\n",
        "\n",
        "print(\"Filtered Words:\")\n",
        "print(wordsFiltered)"
      ],
      "metadata": {
        "id": "y2dnuIwTls_c",
        "colab": {
          "base_uri": "https://localhost:8080/"
        },
        "outputId": "d2b07e6f-e09f-4f76-e73d-33276564096f"
      },
      "execution_count": 18,
      "outputs": [
        {
          "output_type": "stream",
          "name": "stdout",
          "text": [
            "Filtered Words:\n",
            "['work', 'play', 'makes', 'jack', 'dull', 'boy', '.', 'work', 'play']\n"
          ]
        },
        {
          "output_type": "stream",
          "name": "stderr",
          "text": [
            "[nltk_data] Downloading package stopwords to /root/nltk_data...\n",
            "[nltk_data]   Package stopwords is already up-to-date!\n"
          ]
        }
      ]
    },
    {
      "cell_type": "code",
      "source": [
        "from nltk.stem import PorterStemmer\n",
        "\n",
        "pstemer = PorterStemmer()\n",
        "\n",
        "sentence = \"gaming, the gamers play games\"\n",
        "words = word_tokenize(sentence)\n",
        "\n",
        "for word in words:\n",
        "  print(word + \":\" + pstemer.stem(word))"
      ],
      "metadata": {
        "id": "5lsqpKfZmEu5",
        "colab": {
          "base_uri": "https://localhost:8080/"
        },
        "outputId": "7865676f-83dd-4208-febd-0ac762477fb4"
      },
      "execution_count": 19,
      "outputs": [
        {
          "output_type": "stream",
          "name": "stdout",
          "text": [
            "gaming:game\n",
            ",:,\n",
            "the:the\n",
            "gamers:gamer\n",
            "play:play\n",
            "games:game\n"
          ]
        }
      ]
    },
    {
      "cell_type": "code",
      "source": [
        "from nltk.stem import WordNetLemmatizer\n",
        "nltk.download('wordnet')\n",
        "\n",
        "wordnet_lemmatizer = WordNetLemmatizer()\n",
        "\n",
        "sentence = \"gaming the gamers play games\"\n",
        "words = word_tokenize(sentence)\n",
        "\n",
        "for word in words:\n",
        "  print(word + \":\" + wordnet_lemmatizer.lemmatize(word))"
      ],
      "metadata": {
        "id": "JqKcOqJemve2",
        "colab": {
          "base_uri": "https://localhost:8080/"
        },
        "outputId": "ab70445d-f0fa-472d-c9ea-71f462abd208"
      },
      "execution_count": 20,
      "outputs": [
        {
          "output_type": "stream",
          "name": "stderr",
          "text": [
            "[nltk_data] Downloading package wordnet to /root/nltk_data...\n",
            "[nltk_data]   Package wordnet is already up-to-date!\n"
          ]
        },
        {
          "output_type": "stream",
          "name": "stdout",
          "text": [
            "gaming:gaming\n",
            "the:the\n",
            "gamers:gamers\n",
            "play:play\n",
            "games:game\n"
          ]
        }
      ]
    },
    {
      "cell_type": "code",
      "source": [
        "import nltk\n",
        "nltk.download('averaged_perceptron_tagger_eng')\n",
        "\n",
        "sentence = \"And now for something completely different\"\n",
        "words = word_tokenize(sentence)\n",
        "print(nltk.pos_tag(words))"
      ],
      "metadata": {
        "id": "gqVxz_-um5W-",
        "colab": {
          "base_uri": "https://localhost:8080/"
        },
        "outputId": "67c439b9-159a-4b21-d12d-f8fdfe10368e"
      },
      "execution_count": 21,
      "outputs": [
        {
          "output_type": "stream",
          "name": "stderr",
          "text": [
            "[nltk_data] Downloading package averaged_perceptron_tagger_eng to\n",
            "[nltk_data]     /root/nltk_data...\n",
            "[nltk_data]   Package averaged_perceptron_tagger_eng is already up-to-\n",
            "[nltk_data]       date!\n"
          ]
        },
        {
          "output_type": "stream",
          "name": "stdout",
          "text": [
            "[('And', 'CC'), ('now', 'RB'), ('for', 'IN'), ('something', 'NN'), ('completely', 'RB'), ('different', 'JJ')]\n"
          ]
        }
      ]
    },
    {
      "cell_type": "markdown",
      "source": [
        "### Explanation of the Output\n",
        "\n",
        "* **`('And', 'CC')`**: The word \"And\" is tagged as `CC`, which stands for Coordinating Conjunction. Coordinating conjunctions are used to connect words, phrases, or clauses.\n",
        "* **`('now', 'RB')`**: The word \"now\" is tagged as `RB`, which stands for Adverb. Adverbs modify verbs, adjectives, or other adverbs, often indicating time, place, manner, or degree.\n",
        "* **`('for', 'IN')`**: The word \"for\" is tagged as `IN`, which stands for Preposition. Prepositions show relationships between nouns (or pronouns) and other words in a sentence.\n",
        "* **`('something', 'NN')`**: The word \"something\" is tagged as `NN`, which stands for Noun, Singular or Mass. Nouns represent people, places, things, or ideas.\n",
        "* **`('completely', 'RB')`**: The word \"completely\" is tagged as `RB`, which stands for Adverb. As with the previous adverb, it modifies verbs, adjectives, or other adverbs.\n",
        "* **`('different', 'JJ')`**: The word \"different\" is tagged as `JJ`, which stands for Adjective. Adjectives describe or modify nouns.\n"
      ],
      "metadata": {
        "id": "F1sHBwDvoV2U"
      }
    },
    {
      "cell_type": "code",
      "source": [
        "from nltk import word_tokenize, pos_tag, ne_chunk\n",
        "nltk.download('maxent_ne_chunker_tab')\n",
        "nltk.download('words')\n",
        "\n",
        "sentence = \"Mark and John are working at Google.\"\n",
        "\n",
        "print(ne_chunk(pos_tag(word_tokenize(sentence))))"
      ],
      "metadata": {
        "id": "l64PCSTCnvW1",
        "colab": {
          "base_uri": "https://localhost:8080/"
        },
        "outputId": "b20f978f-72ea-4461-c593-20f636594bb8"
      },
      "execution_count": 22,
      "outputs": [
        {
          "output_type": "stream",
          "name": "stderr",
          "text": [
            "[nltk_data] Downloading package maxent_ne_chunker_tab to\n",
            "[nltk_data]     /root/nltk_data...\n",
            "[nltk_data]   Package maxent_ne_chunker_tab is already up-to-date!\n",
            "[nltk_data] Downloading package words to /root/nltk_data...\n",
            "[nltk_data]   Package words is already up-to-date!\n"
          ]
        },
        {
          "output_type": "stream",
          "name": "stdout",
          "text": [
            "(S\n",
            "  (PERSON Mark/NNP)\n",
            "  and/CC\n",
            "  (PERSON John/NNP)\n",
            "  are/VBP\n",
            "  working/VBG\n",
            "  at/IN\n",
            "  (ORGANIZATION Google/NNP)\n",
            "  ./.)\n"
          ]
        }
      ]
    },
    {
      "cell_type": "markdown",
      "source": [
        "## Preprocessing (TextBlob)\n",
        "\n",
        "TextBlob is a modern, multi-purpose NLP toolset that is really great for fast and easy development. It provides several useful features for text processing:\n",
        "\n",
        "- **Tokenization**:\n",
        "  - **Word Tokenization**: Breaking text into individual words.\n",
        "  - **Sentence Tokenization**: Splitting text into sentences.\n",
        "\n",
        "- **Part-of-Speech Tagging**: Identifies the parts of speech (e.g., nouns, verbs) for each token in the text.\n",
        "\n",
        "- **Noun Phrase Extraction**: Extracts noun phrases from the text.\n",
        "\n",
        "- **Word Pluralization**: Converts words to their plural forms.\n",
        "\n",
        "- **Word Singularization**: Converts words to their singular forms.\n",
        "\n",
        "- **Parsing**: Analyzes the grammatical structure of sentences."
      ],
      "metadata": {
        "id": "KOZOv5a9rlY0"
      }
    },
    {
      "cell_type": "code",
      "source": [
        "from textblob import TextBlob\n",
        "text= TextBlob(\"Beautiful is better than ugly. Explicit is better than implicit. Simple is better than complex.\")\n",
        "print( text.words )\n",
        "print(text.sentences)"
      ],
      "metadata": {
        "id": "-LAPpvD9o4NM",
        "colab": {
          "base_uri": "https://localhost:8080/"
        },
        "outputId": "f17a8c86-8338-4471-e95c-196efb5f6e5f"
      },
      "execution_count": 23,
      "outputs": [
        {
          "output_type": "stream",
          "name": "stdout",
          "text": [
            "['Beautiful', 'is', 'better', 'than', 'ugly', 'Explicit', 'is', 'better', 'than', 'implicit', 'Simple', 'is', 'better', 'than', 'complex']\n",
            "[Sentence(\"Beautiful is better than ugly.\"), Sentence(\"Explicit is better than implicit.\"), Sentence(\"Simple is better than complex.\")]\n"
          ]
        }
      ]
    },
    {
      "cell_type": "code",
      "source": [
        "from textblob import Word\n",
        "# Create a TextBlob object\n",
        "word = Word('running')\n",
        "\n",
        "# Lemmatize the word as a verb\n",
        "lemma = word.lemmatize(\"v\")\n",
        "\n",
        "print(\"Lemmatized word:\", lemma)"
      ],
      "metadata": {
        "id": "ygLmf765rrlC",
        "colab": {
          "base_uri": "https://localhost:8080/"
        },
        "outputId": "1620cf91-8933-4d5a-dee1-acecb0f7e1d7"
      },
      "execution_count": 24,
      "outputs": [
        {
          "output_type": "stream",
          "name": "stdout",
          "text": [
            "Lemmatized word: run\n"
          ]
        }
      ]
    },
    {
      "cell_type": "code",
      "source": [
        "from textblob import TextBlob\n",
        "text = \"Natural language processing (NLP) deals with the application of computational models to text or speech data.\"\n",
        "blob = TextBlob(text)\n",
        "print(blob.tags)"
      ],
      "metadata": {
        "id": "fzgGQ66mr-A7",
        "colab": {
          "base_uri": "https://localhost:8080/"
        },
        "outputId": "b52f58a5-0fad-48d5-ba27-100c0b1f0060"
      },
      "execution_count": 25,
      "outputs": [
        {
          "output_type": "stream",
          "name": "stdout",
          "text": [
            "[('Natural', 'JJ'), ('language', 'NN'), ('processing', 'NN'), ('NLP', 'NNP'), ('deals', 'VBZ'), ('with', 'IN'), ('the', 'DT'), ('application', 'NN'), ('of', 'IN'), ('computational', 'JJ'), ('models', 'NNS'), ('to', 'TO'), ('text', 'VB'), ('or', 'CC'), ('speech', 'VB'), ('data', 'NNS')]\n"
          ]
        }
      ]
    },
    {
      "cell_type": "code",
      "source": [
        "from textblob import TextBlob\n",
        "from textblob.parsers import PatternParser\n",
        "blob = TextBlob(\"Parsing is fun.\", parser=PatternParser())\n",
        "print(blob.parse())"
      ],
      "metadata": {
        "id": "fUmeWkoxv9ey",
        "colab": {
          "base_uri": "https://localhost:8080/"
        },
        "outputId": "44aa1b32-0624-45a3-a8ab-cb917d152537"
      },
      "execution_count": 26,
      "outputs": [
        {
          "output_type": "stream",
          "name": "stdout",
          "text": [
            "Parsing/VBG/B-VP/O is/VBZ/I-VP/O fun/NN/B-NP/O ././O/O\n"
          ]
        }
      ]
    },
    {
      "cell_type": "markdown",
      "source": [
        "| Task                          | spaCy | Pattern | NLTK | TextBlob | Polyglot |\n",
        "|-------------------------------|-------|---------|------|----------|----------|\n",
        "| Tokenization                  | ✓     | ✓       | ✓    | ✓        | ✓        |\n",
        "| Removing Stopwords            | ✓     |         | ✓    |          |          |\n",
        "| Stemming                      |       |         | ✓    |          |          |\n",
        "| Lemmatization                 | ✓     | ✓       | ✓    | ✓        | ✓        |\n",
        "| POS Tagging                    | ✓     | ✓       | ✓    | ✓        | ✓        |\n",
        "| Named Entity Recognition (NER) | ✓     |         | ✓    |          | ✓        |\n",
        "| Dependency Parsing            | ✓     |    ✓    | ✓    |    ✓     |          |\n"
      ],
      "metadata": {
        "id": "4ILtBsq3wzBb"
      }
    },
    {
      "cell_type": "markdown",
      "source": [
        "# Model Construction\n",
        "\n",
        "Model construction involves several key steps to prepare and build a model for text analysis. This includes feature engineering and data modeling.\n",
        "\n",
        "## 1. Feature Engineering\n",
        "\n",
        "Feature engineering is the process of using domain knowledge to extract and create features from raw data, which are then used to train machine learning models. In text mining, feature engineering may involve transforming text into numerical features that can be used by algorithms.\n",
        "\n",
        "- **sklearn**: A powerful library for machine learning in Python that provides various tools for feature extraction and transformation, such as TF-IDF and count vectorizers.\n",
        "- **pattern**: A library that includes tools for text mining, including feature extraction techniques.\n",
        "- **Gensim**: A library specialized in topic modeling and document similarity analysis, which provides tools like word embeddings and topic modeling algorithms.\n",
        "- **SpaCy**: An NLP library with features for extracting linguistic annotations and vector representations of words.\n",
        "- **NLTK**: The Natural Language Toolkit offers various tools for feature extraction, including tokenization and part-of-speech tagging.\n",
        "\n",
        "## 2. Data Modeling\n",
        "\n",
        "Data modeling involves applying machine learning algorithms to the features extracted from the data to build a predictive or descriptive model.\n",
        "\n",
        "- **Pattern**: Provides tools for text classification and modeling, including sentiment analysis and part-of-speech tagging.\n",
        "- **NLTK**: Offers a range of algorithms for text classification and other modeling tasks, including supervised and unsupervised learning.\n",
        "- **TextBlob**: A library that simplifies text processing and provides easy-to-use methods for classification and sentiment analysis.\n",
        "\n",
        "Each tool and library offers different functionalities and strengths, so the choice depends on the specific requirements of your text mining project.\n"
      ],
      "metadata": {
        "id": "D6L_uhwpzWC_"
      }
    },
    {
      "cell_type": "markdown",
      "source": [
        "## Feature Engineering with `sklearn`\n",
        "\n",
        "`sklearn` (Scikit-learn) is a powerful library for machine learning in Python that provides simple and efficient tools for data mining and data analysis. It is built on top of several fundamental libraries including NumPy, SciPy, and matplotlib, which makes it highly effective for performing complex data operations and visualizations.\n",
        "\n",
        "### Key Features\n",
        "\n",
        "- **Simple and Efficient Tools**: `sklearn` provides a user-friendly interface to a wide range of machine learning algorithms and techniques. This includes feature extraction, dimensionality reduction, and data transformation, all of which are crucial for feature engineering.\n",
        "\n",
        "- **Built on NumPy, SciPy, and matplotlib**: The library leverages these foundational libraries to provide high-performance operations and data handling capabilities. NumPy and SciPy contribute to numerical computations, while matplotlib is used for data visualization.\n",
        "\n",
        "- **Open Source and Commercially Usable**: `sklearn` is an open-source library, meaning it is freely available for use and modification. It is also commercially usable, which makes it a popular choice for both academic research and industrial applications.\n",
        "\n",
        "### Common Feature Engineering Tasks with `sklearn`\n",
        "\n",
        "- **Tokenization**: Converting text into tokens (words or phrases) using tools like `CountVectorizer` or `TfidfVectorizer`.\n",
        "- **Normalization**: Scaling features to a standard range or distribution.\n",
        "- **Dimensionality Reduction**: Techniques like Principal Component Analysis (PCA) to reduce the number of features while retaining important information.\n",
        "- **Feature Extraction**: Extracting meaningful features from raw data, such as text or numerical data.\n",
        "\n",
        "`sklearn` is a versatile and powerful toolset for feature engineering, enabling users to prepare data effectively for building robust machine learning models.\n"
      ],
      "metadata": {
        "id": "uORNtiPN0-xc"
      }
    },
    {
      "cell_type": "markdown",
      "source": [
        "## Bag of Words (BoW) Model\n",
        "\n",
        "The Bag of Words (BoW) model is a simple and commonly used technique in natural language processing (NLP) for text representation and feature extraction. It is often employed in text classification and text analysis tasks.\n",
        "\n",
        "### Concept\n",
        "\n",
        "The BoW model represents a text (such as a sentence or document) as an unordered collection of words, disregarding grammar and word order but keeping track of the frequency of each word. This method transforms text into a numerical feature vector that can be used by machine learning algorithms.\n",
        "\n",
        "### How It Works\n",
        "\n",
        "1. **Tokenization**: The text is split into individual words or tokens. For example, the sentence \"The cat sat on the mat\" might be tokenized into `[\"The\", \"cat\", \"sat\", \"on\", \"the\", \"mat\"]`.\n",
        "\n",
        "2. **Vocabulary Creation**: A vocabulary is built from the entire dataset, which includes every unique word that appears in the text corpus. For instance, if the corpus consists of multiple sentences, the vocabulary might include `[\"The\", \"cat\", \"sat\", \"on\", \"the\", \"mat\", \"dog\"]`.\n",
        "\n",
        "3. **Vectorization**: Each text is converted into a vector where each element represents the count of a word from the vocabulary in that text. For example, the sentence \"The cat sat on the mat\" might be represented as `[2, 1, 1, 1, 1, 1]`, where each number corresponds to the count of words in the order of the vocabulary.\n",
        "\n",
        "### Example\n",
        "\n",
        "Consider the following two sentences:\n",
        "- Sentence 1: \"The cat sat on the mat.\"\n",
        "- Sentence 2: \"The dog sat on the log.\"\n",
        "\n",
        "With a vocabulary of `[\"The\", \"cat\", \"sat\", \"on\", \"the\", \"mat\", \"dog\", \"log\"]`, these sentences can be represented as:\n",
        "- Sentence 1: `[2, 1, 1, 1, 1, 1, 0, 0]`\n",
        "- Sentence 2: `[2, 0, 1, 1, 0, 0, 1, 1]`\n",
        "\n",
        "In this representation, each vector indicates the frequency of the words from the vocabulary in the respective sentence.\n",
        "\n",
        "The Bag of Words model is a foundational technique in text processing and remains useful for various NLP applications.\n"
      ],
      "metadata": {
        "id": "Hxx9zamm1nj1"
      }
    },
    {
      "cell_type": "code",
      "source": [
        "from sklearn.feature_extraction.text import CountVectorizer\n",
        "corpus = ['This is the first document.',\n",
        "          'This is the second second document.',\n",
        "          'And the third one.',\n",
        "          'Is this the first document?']\n",
        "vectorizer = CountVectorizer()\n",
        "print( vectorizer.fit_transform(corpus) )"
      ],
      "metadata": {
        "id": "tG61YI0iwDPT",
        "outputId": "0056cc5c-1531-4ed4-a7ec-b64d40e4dad0",
        "colab": {
          "base_uri": "https://localhost:8080/"
        }
      },
      "execution_count": 27,
      "outputs": [
        {
          "output_type": "stream",
          "name": "stdout",
          "text": [
            "  (0, 8)\t1\n",
            "  (0, 3)\t1\n",
            "  (0, 6)\t1\n",
            "  (0, 2)\t1\n",
            "  (0, 1)\t1\n",
            "  (1, 8)\t1\n",
            "  (1, 3)\t1\n",
            "  (1, 6)\t1\n",
            "  (1, 1)\t1\n",
            "  (1, 5)\t2\n",
            "  (2, 6)\t1\n",
            "  (2, 0)\t1\n",
            "  (2, 7)\t1\n",
            "  (2, 4)\t1\n",
            "  (3, 8)\t1\n",
            "  (3, 3)\t1\n",
            "  (3, 6)\t1\n",
            "  (3, 2)\t1\n",
            "  (3, 1)\t1\n"
          ]
        }
      ]
    },
    {
      "cell_type": "markdown",
      "source": [
        "```python\n",
        "{'and': 0, 'document': 1, 'first': 2, 'is': 3, 'one': 4, 'second': 5, 'the': 6, 'third': 7, 'this': 8}\n",
        "```"
      ],
      "metadata": {
        "id": "s1ZQ5SFK3SQG"
      }
    },
    {
      "cell_type": "markdown",
      "source": [
        "# TF-IDF (Term Frequency-Inverse Document Frequency)\n",
        "\n",
        "TF-IDF is a statistical measure used to evaluate the importance of a word in a document relative to a collection of documents, known as a corpus. It's commonly used in text mining and information retrieval.\n",
        "\n",
        "## Components of TF-IDF\n",
        "\n",
        "TF-IDF is composed of two parts:\n",
        "\n",
        "1. **Term Frequency (TF)**:\n",
        "   - Measures how frequently a term occurs in a document.\n",
        "   - Formula:\n",
        "        \n",
        "        TF(t, d) = (Number of times term t appears in document d) / (Total number of terms in document d)\n",
        "   - Example: If the term \"data\" appears 3 times in a document with 100 words, the TF for \"data\" is TF(\"data\", d) = 3 / 100 = 0.03.\n",
        "\n",
        "2. **Inverse Document Frequency (IDF)**:\n",
        "   - Measures how important a term is across the corpus.\n",
        "   - Formula:\n",
        "     \n",
        "     IDF(t, D) = log (Total number of documents in corpus D / Number of documents containing term t)\n",
        "\n",
        "   - Example: If \"data\" appears in 10 out of 100 documents, the IDF for \"data\" is IDF(\"data\", D) = log (100 / 10) = log 10 = 1.\n",
        "\n",
        "## Calculating TF-IDF\n",
        "\n",
        "TF-IDF is the product of TF and IDF:\n",
        "\n",
        "TF-IDF(t, d, D) = TF(t, d) * IDF(t, D)\n",
        "\n",
        "This calculation helps in identifying terms that are important to a specific document but not common across all documents, thus highlighting terms that are more relevant to the context of that document."
      ],
      "metadata": {
        "id": "QXP-6WQa6Fa5"
      }
    },
    {
      "cell_type": "code",
      "source": [
        "from sklearn.feature_extraction.text import TfidfVectorizer\n",
        "\n",
        "# Example documents\n",
        "documents = [\n",
        "    \"the cat in the hat\",\n",
        "    \"the cat in the hat sat on the mat\",\n",
        "    \"the mat is on the floor\",\n",
        "    \"the cat sat on the mat\",\n",
        "    \"the floor is dirty\"\n",
        "]\n",
        "\n",
        "# Initialize the TfidfVectorizer\n",
        "vectorizer = TfidfVectorizer(smooth_idf=False)\n",
        "\n",
        "# Fit the model and transform the documents\n",
        "tfidf_matrix = vectorizer.fit_transform(documents)\n",
        "\n",
        "# Get feature names\n",
        "feature_names = vectorizer.get_feature_names_out()\n",
        "\n",
        "# Convert the TF-IDF matrix to a dense array and print it\n",
        "tfidf_array = tfidf_matrix.toarray()\n",
        "print(\"TF-IDF Matrix:\")\n",
        "print(tfidf_array)\n",
        "\n",
        "# Print feature names for better understanding\n",
        "print(\"\\nFeature Names:\")\n",
        "print(feature_names)\n"
      ],
      "metadata": {
        "id": "tx6_poTI6TnG",
        "colab": {
          "base_uri": "https://localhost:8080/"
        },
        "outputId": "a9ce90a0-543c-4ae5-90e0-6a61a225eced"
      },
      "execution_count": 28,
      "outputs": [
        {
          "output_type": "stream",
          "name": "stdout",
          "text": [
            "TF-IDF Matrix:\n",
            "[[0.40927504 0.         0.         0.51911349 0.51911349 0.\n",
            "  0.         0.         0.         0.54178991]\n",
            " [0.291492   0.         0.         0.36972064 0.36972064 0.\n",
            "  0.291492   0.291492   0.36972064 0.5788067 ]\n",
            " [0.         0.         0.48043291 0.         0.         0.48043291\n",
            "  0.37877882 0.37877882 0.         0.50141964]\n",
            " [0.39648955 0.         0.         0.         0.         0.\n",
            "  0.39648955 0.39648955 0.50289672 0.52486474]\n",
            " [0.         0.67033269 0.49227165 0.         0.         0.49227165\n",
            "  0.         0.         0.         0.25688777]]\n",
            "\n",
            "Feature Names:\n",
            "['cat' 'dirty' 'floor' 'hat' 'in' 'is' 'mat' 'on' 'sat' 'the']\n"
          ]
        }
      ]
    },
    {
      "cell_type": "markdown",
      "source": [
        "In this output:\n",
        "\n",
        "Each row represents a document.\n",
        "Each column represents a term (feature) from the vocabulary.\n",
        "The values in the matrix represent the TF-IDF scores of terms in documents."
      ],
      "metadata": {
        "id": "7T4ry6Ud9XF7"
      }
    },
    {
      "cell_type": "code",
      "source": [
        "nltk.download('genesis')\n",
        "nltk.download('inaugural')\n",
        "nltk.download('treebank')\n",
        "\n",
        "import nltk.corpus\n",
        "from nltk.text import TextCollection\n",
        "from nltk.book import text1, text2, text3\n",
        "\n",
        "\n",
        "gutenberg = TextCollection(nltk.corpus.gutenberg)\n",
        "mytexts = TextCollection([text1, text2, text3])\n",
        "\n",
        "term = \"cat\"\n",
        "\n",
        "idf_value = mytexts.idf(term)\n",
        "print(f\"IDF of '{term}': {idf_value}\")\n",
        "\n",
        "# Calculate TF for the term in each of the texts\n",
        "for i, text in enumerate([text1, text2, text3], start=1):\n",
        "    tf_value = mytexts.tf(term, text)\n",
        "    print(f\"TF of '{term}' in text{i}: {tf_value}\")\n",
        "\n",
        "# Calculate TF-IDF for the term in each of the texts\n",
        "for i, text in enumerate([text1, text2, text3], start=1):\n",
        "    tf_idf_value = mytexts.tf_idf(term, text)\n",
        "    print(f\"TF-IDF of '{term}' in text{i}: {tf_idf_value}\")"
      ],
      "metadata": {
        "id": "C-M9R1lk93M-",
        "colab": {
          "base_uri": "https://localhost:8080/"
        },
        "outputId": "fc549462-cce5-4221-c2de-ce259e7300ec"
      },
      "execution_count": 29,
      "outputs": [
        {
          "output_type": "stream",
          "name": "stdout",
          "text": [
            "*** Introductory Examples for the NLTK Book ***\n",
            "Loading text1, ..., text9 and sent1, ..., sent9\n",
            "Type the name of the text or sentence to view it.\n",
            "Type: 'texts()' or 'sents()' to list the materials.\n"
          ]
        },
        {
          "output_type": "stream",
          "name": "stderr",
          "text": [
            "[nltk_data] Downloading package genesis to /root/nltk_data...\n",
            "[nltk_data]   Package genesis is already up-to-date!\n",
            "[nltk_data] Downloading package inaugural to /root/nltk_data...\n",
            "[nltk_data]   Package inaugural is already up-to-date!\n",
            "[nltk_data] Downloading package treebank to /root/nltk_data...\n",
            "[nltk_data]   Package treebank is already up-to-date!\n"
          ]
        },
        {
          "output_type": "stream",
          "name": "stdout",
          "text": [
            "text1: Moby Dick by Herman Melville 1851\n",
            "text2: Sense and Sensibility by Jane Austen 1811\n",
            "text3: The Book of Genesis\n",
            "text4: Inaugural Address Corpus\n",
            "text5: Chat Corpus\n",
            "text6: Monty Python and the Holy Grail\n",
            "text7: Wall Street Journal\n",
            "text8: Personals Corpus\n",
            "text9: The Man Who Was Thursday by G . K . Chesterton 1908\n",
            "IDF of 'cat': 1.0986122886681098\n",
            "TF of 'cat' in text1: 7.668153010325168e-06\n",
            "TF of 'cat' in text2: 0.0\n",
            "TF of 'cat' in text3: 0.0\n",
            "TF-IDF of 'cat' in text1: 8.424327128530587e-06\n",
            "TF-IDF of 'cat' in text2: 0.0\n",
            "TF-IDF of 'cat' in text3: 0.0\n"
          ]
        }
      ]
    },
    {
      "cell_type": "markdown",
      "source": [
        "# Word Embeddings\n",
        "\n",
        "Word embeddings are a type of word representation that allows words to be represented as continuous vectors in a high-dimensional space. They are a fundamental concept in natural language processing (NLP) and are used to capture semantic meanings of words based on their context.\n",
        "\n",
        "## What Are Word Embeddings?\n",
        "\n",
        "Word embeddings are dense vector representations of words that encode semantic relationships and contextual meanings. Unlike traditional one-hot encoding, which creates sparse vectors with a high-dimensional space, word embeddings produce dense vectors in a lower-dimensional space.\n",
        "\n",
        "## Benefits of Word Embeddings\n",
        "\n",
        "- **Captures Semantic Meaning**: Words with similar meanings have similar vector representations.\n",
        "- **Reduces Dimensionality**: Dense vectors are more compact and efficient compared to sparse one-hot vectors.\n",
        "- **Improves Performance**: Embeddings improve the performance of various NLP tasks like text classification, sentiment analysis, and machine translation.\n",
        "\n",
        "## Popular Word Embedding Models\n",
        "\n",
        "1. **Word2Vec**:\n",
        "   - Developed by Google.\n",
        "   - Uses two architectures: Continuous Bag of Words (CBOW) and Skip-gram.\n",
        "   - Example usage: Predicting surrounding words given a target word or vice versa."
      ],
      "metadata": {
        "id": "dEVbFqitGoW6"
      }
    },
    {
      "cell_type": "code",
      "source": [
        "import gensim.downloader as api\n",
        "\n",
        "# Load the pre-trained word vectors from a binary file\n",
        "model = api.load('glove-wiki-gigaword-50')\n",
        "\n",
        "# Access vectors for a specific word\n",
        "word = 'easy'\n",
        "vector = model[word]\n",
        "print(f\"Vector for the word '{word}':\\n{vector}\")\n",
        "\n",
        "# Process a sentence by obtaining vectors for each word in the sentence\n",
        "sentence = \"This is some text I am processing with Spacy\"\n",
        "# Split the sentence into words and retrieve their vectors\n",
        "vectors = [model[word] for word in sentence.split() if word in model]\n",
        "\n",
        "# Output the vectors for the words in the sentence\n",
        "print(\"\\nVectors for the words in the sentence:\")\n",
        "for word, vec in zip(sentence.split(), vectors):\n",
        "    print(f\"{word}:\\n{vec}\\n\")\n"
      ],
      "metadata": {
        "id": "AFKXrtOM94m5",
        "colab": {
          "base_uri": "https://localhost:8080/"
        },
        "outputId": "ee4876c2-50a8-4859-e3e7-d50c74286bc5"
      },
      "execution_count": 30,
      "outputs": [
        {
          "output_type": "stream",
          "name": "stdout",
          "text": [
            "Vector for the word 'easy':\n",
            "[-2.3259e-02 -1.0774e-01  1.9567e-01  3.3223e-02  7.4798e-02 -2.4640e-01\n",
            " -3.7363e-01  2.3737e-01 -4.3820e-02  7.5206e-01 -6.8002e-01  1.4228e-01\n",
            " -5.1052e-02  1.2944e-01  6.1359e-02  1.3980e-01  6.7984e-01 -5.8867e-01\n",
            "  1.1884e-01 -1.0120e+00 -4.2694e-01  1.5890e-01 -7.4903e-02  5.3789e-01\n",
            "  1.0589e+00 -1.3319e+00 -3.8969e-01  8.3434e-02  1.2894e+00 -7.9956e-01\n",
            "  3.0825e+00  3.7201e-01 -4.9131e-01  1.5977e-01  4.3779e-01  1.2637e-01\n",
            "  1.1982e-01  9.9909e-01 -2.4347e-01 -7.7499e-01  4.7008e-01  1.7949e-01\n",
            "  2.6817e-01  6.6041e-01  2.0982e-01  3.2454e-01  6.6948e-01 -2.9127e-03\n",
            "  6.3353e-01  5.2693e-01]\n",
            "\n",
            "Vectors for the words in the sentence:\n",
            "This:\n",
            "[ 6.1850e-01  6.4254e-01 -4.6552e-01  3.7570e-01  7.4838e-01  5.3739e-01\n",
            "  2.2239e-03 -6.0577e-01  2.6408e-01  1.1703e-01  4.3722e-01  2.0092e-01\n",
            " -5.7859e-02 -3.4589e-01  2.1664e-01  5.8573e-01  5.3919e-01  6.9490e-01\n",
            " -1.5618e-01  5.5830e-02 -6.0515e-01 -2.8997e-01 -2.5594e-02  5.5593e-01\n",
            "  2.5356e-01 -1.9612e+00 -5.1381e-01  6.9096e-01  6.6246e-02 -5.4224e-02\n",
            "  3.7871e+00 -7.7403e-01 -1.2689e-01 -5.1465e-01  6.6705e-02 -3.2933e-01\n",
            "  1.3483e-01  1.9049e-01  1.3812e-01 -2.1503e-01 -1.6573e-02  3.1200e-01\n",
            " -3.3189e-01 -2.6001e-02 -3.8203e-01  1.9403e-01 -1.2466e-01 -2.7557e-01\n",
            "  3.0899e-01  4.8497e-01]\n",
            "\n",
            "is:\n",
            "[ 9.2871e-01 -1.0834e-01  2.1497e-01 -5.0237e-01  1.0379e-01  2.2728e-01\n",
            " -5.4198e-01 -2.9008e-01 -6.4607e-01  1.2664e-01 -4.1487e-01 -2.9343e-01\n",
            "  3.6855e-01 -4.1733e-01  6.9116e-01  6.7341e-02  1.9715e-01 -3.0465e-02\n",
            " -2.1723e-01 -1.2238e+00  9.5469e-03  1.9594e-01  5.6595e-01 -6.7473e-02\n",
            "  5.9208e-02 -1.3909e+00 -8.9275e-01 -1.3546e-01  1.6200e-01 -4.0210e-01\n",
            "  4.1644e+00  3.7816e-01  1.5797e-01 -4.8892e-01  2.3131e-01  2.3258e-01\n",
            " -2.5314e-01 -1.9977e-01 -1.2258e-01  1.5620e-01 -3.1995e-01  3.8314e-01\n",
            "  4.7266e-01  8.7700e-01  3.2223e-01  1.3292e-03 -4.9860e-01  5.5580e-01\n",
            " -7.0359e-01 -5.2693e-01]\n",
            "\n",
            "some:\n",
            "[ 0.32615    0.36686   -0.0074905 -0.37553    0.66715    0.21646\n",
            " -0.19801   -1.1001    -0.42221    0.10574   -0.31292    0.50953\n",
            "  0.55775    0.12019    0.31441   -0.25043   -1.0637    -1.3213\n",
            "  0.87798   -0.24627    0.27379   -0.51092    0.49324    0.52243\n",
            "  1.1636    -0.75323   -0.48053   -0.11259   -0.54595   -0.83921\n",
            "  2.9825    -1.1916    -0.51958   -0.39365   -0.1419    -0.026977\n",
            "  0.66296    0.16574   -1.1681     0.14443    1.6305    -0.17216\n",
            " -0.17436   -0.01049   -0.17794    0.93076    1.0381     0.94266\n",
            " -0.14805   -0.61109  ]\n",
            "\n",
            "text:\n",
            "[ 0.34664   0.39805   0.4897   -0.51421   0.54574  -1.2005    0.32107\n",
            "  0.74004  -1.4979   -0.19651  -0.12631  -0.37703  -0.62569   0.038792\n",
            "  1.0579    0.77199  -0.18589   1.3032   -0.72128   0.40231   0.066442\n",
            "  1.2315    0.93956   1.3903    1.5334   -1.473    -0.34997   0.31562\n",
            "  0.90691   0.45498   2.5481    0.1641   -0.607     0.27061  -0.79072\n",
            " -1.146     0.91795  -0.11797   0.23526  -0.12659   0.66527  -0.91816\n",
            "  0.10048   0.70457  -0.21777   0.52479  -0.54452   0.086576  0.34037\n",
            "  1.3588  ]\n",
            "\n",
            "I:\n",
            "[ 1.6092e-01 -9.0221e-01  1.5797e-01  1.1776e+00 -6.2201e-04 -1.9004e-02\n",
            " -1.5081e-01 -5.8863e-01  1.5128e+00  4.2868e-01  6.6918e-01  1.9839e-03\n",
            "  1.2855e+00 -3.5187e-01 -9.9470e-03 -1.2504e-02 -6.4740e-01  6.9845e-01\n",
            "  6.5602e-01 -7.2214e-01  1.3672e+00 -9.7753e-01 -9.8096e-02 -3.0653e-01\n",
            "  1.9883e-01 -3.5172e-01  4.1837e-01 -3.5796e-01  9.4309e-01 -4.2809e-01\n",
            "  3.2094e+00 -9.3491e-01 -3.6937e-02 -4.1309e-01  2.0524e-01  9.0929e-01\n",
            " -3.8058e-01  8.0895e-01  6.3268e-01  5.2462e-01  4.0734e-01 -2.6902e-01\n",
            "  2.3058e-01  1.5873e-01  2.9422e-01 -1.4096e-01  9.0818e-01  6.9391e-01\n",
            " -1.2928e-01  8.2681e-03]\n",
            "\n",
            "am:\n",
            "[ 0.25616   0.43694  -0.11889   0.20345   0.41959   0.85863  -0.60344\n",
            " -0.31835  -0.6718    0.003984 -0.075159  0.11043  -0.73534   0.27436\n",
            "  0.054015 -0.23828  -0.13767   0.011573 -0.46623  -0.55233   0.083317\n",
            "  0.55938   0.51903  -0.27065  -0.28211  -1.3918    0.17498   0.26586\n",
            "  0.061449 -0.273     3.9032    0.38169  -0.056009 -0.004425  0.24033\n",
            "  0.30675  -0.12638   0.33436   0.075485 -0.036218  0.13691   0.37762\n",
            " -0.12159  -0.13808   0.19505   0.22793  -0.17304  -0.07573  -0.25868\n",
            " -0.39339 ]\n",
            "\n"
          ]
        }
      ]
    },
    {
      "cell_type": "markdown",
      "source": [
        "- **Create and Train**: It trains a Word2Vec model on a small sample corpus of tokenized sentences to learn word vectors.\n",
        "- **Save the Model**: The trained model is saved to a file (`word2vec.model`), allowing it to be reused without retraining from scratch.\n",
        "- **Load the Model**: The saved model is loaded back into the program, making it possible to continue using the trained vectors.\n",
        "- **Continue Training**: The loaded model is further trained with new data (`[\"hello\", \"world\"]`), illustrating that the Word2Vec model can be incrementally trained with new words or sentences."
      ],
      "metadata": {
        "id": "xbpA_rwV-lIT"
      }
    },
    {
      "cell_type": "code",
      "source": [
        "from gensim.test.utils import get_tmpfile\n",
        "from gensim.models import Word2Vec\n",
        "\n",
        "corpus = [\n",
        "    'Text of the first document.',\n",
        "    'Text of the second document made longer.',\n",
        "    'Number three.',\n",
        "    'This is number four.'\n",
        "]\n",
        "\n",
        "# Tokenize the sentences\n",
        "tokenized_sentences = [sentence.split() for sentence in corpus]\n",
        "\n",
        "# Get a temporary file path for saving the model\n",
        "path = get_tmpfile(\"word2vec.model\")\n",
        "\n",
        "# Create and train the Word2Vec model\n",
        "model = Word2Vec(tokenized_sentences, min_count=1)\n",
        "\n",
        "# Save the trained model\n",
        "model.save(path)\n",
        "\n",
        "# Load the saved model\n",
        "model = Word2Vec.load(path)\n",
        "\n",
        "# Continue training the model with new data\n",
        "model.train([[\"hello\", \"world\"]], total_examples=1, epochs=1)\n",
        "\n",
        "print(\"Model training and continuation successful.\")"
      ],
      "metadata": {
        "id": "ERxWtuA3Hwz1",
        "colab": {
          "base_uri": "https://localhost:8080/"
        },
        "outputId": "f2f35d49-5004-4f95-882b-44186fd8499d"
      },
      "execution_count": 31,
      "outputs": [
        {
          "output_type": "stream",
          "name": "stderr",
          "text": [
            "WARNING:gensim.models.word2vec:Effective 'alpha' higher than previous training cycles\n"
          ]
        },
        {
          "output_type": "stream",
          "name": "stdout",
          "text": [
            "Model training and continuation successful.\n"
          ]
        }
      ]
    },
    {
      "cell_type": "markdown",
      "source": [
        "### Feature Engineering with spaCy\n",
        "\n",
        "- **Extremely Optimized NLP Library**: spaCy is a powerful and efficient Natural Language Processing (NLP) library designed to provide high performance and easy integration for various NLP tasks.\n",
        "\n",
        "- **Integration with Deep Learning Frameworks**: spaCy can be used alongside deep learning frameworks such as TensorFlow or PyTorch, allowing for advanced feature engineering and model building in NLP pipelines.\n"
      ],
      "metadata": {
        "id": "483twYrMClgO"
      }
    },
    {
      "cell_type": "markdown",
      "source": [
        "### Feature Engineering with spaCy: Word Embedding (Pre-trained Models)\n",
        "\n",
        "The following example demonstrates how to use pre-trained word embeddings with spaCy for feature engineering:"
      ],
      "metadata": {
        "id": "KfHJHOYVCs52"
      }
    },
    {
      "cell_type": "code",
      "source": [
        "!python -m spacy download en_core_web_md"
      ],
      "metadata": {
        "id": "NaShn-g5DEuh",
        "colab": {
          "base_uri": "https://localhost:8080/"
        },
        "outputId": "c2b8dcf2-fbb7-41cb-d9bb-30ae2a296b4a"
      },
      "execution_count": 32,
      "outputs": [
        {
          "output_type": "stream",
          "name": "stdout",
          "text": [
            "Collecting en-core-web-md==3.7.1\n",
            "  Downloading https://github.com/explosion/spacy-models/releases/download/en_core_web_md-3.7.1/en_core_web_md-3.7.1-py3-none-any.whl (42.8 MB)\n",
            "\u001b[2K     \u001b[90m━━━━━━━━━━━━━━━━━━━━━━━━━━━━━━━━━━━━━━━━\u001b[0m \u001b[32m42.8/42.8 MB\u001b[0m \u001b[31m13.3 MB/s\u001b[0m eta \u001b[36m0:00:00\u001b[0m\n",
            "\u001b[?25hRequirement already satisfied: spacy<3.8.0,>=3.7.2 in /usr/local/lib/python3.10/dist-packages (from en-core-web-md==3.7.1) (3.7.5)\n",
            "Requirement already satisfied: spacy-legacy<3.1.0,>=3.0.11 in /usr/local/lib/python3.10/dist-packages (from spacy<3.8.0,>=3.7.2->en-core-web-md==3.7.1) (3.0.12)\n",
            "Requirement already satisfied: spacy-loggers<2.0.0,>=1.0.0 in /usr/local/lib/python3.10/dist-packages (from spacy<3.8.0,>=3.7.2->en-core-web-md==3.7.1) (1.0.5)\n",
            "Requirement already satisfied: murmurhash<1.1.0,>=0.28.0 in /usr/local/lib/python3.10/dist-packages (from spacy<3.8.0,>=3.7.2->en-core-web-md==3.7.1) (1.0.10)\n",
            "Requirement already satisfied: cymem<2.1.0,>=2.0.2 in /usr/local/lib/python3.10/dist-packages (from spacy<3.8.0,>=3.7.2->en-core-web-md==3.7.1) (2.0.8)\n",
            "Requirement already satisfied: preshed<3.1.0,>=3.0.2 in /usr/local/lib/python3.10/dist-packages (from spacy<3.8.0,>=3.7.2->en-core-web-md==3.7.1) (3.0.9)\n",
            "Requirement already satisfied: thinc<8.3.0,>=8.2.2 in /usr/local/lib/python3.10/dist-packages (from spacy<3.8.0,>=3.7.2->en-core-web-md==3.7.1) (8.2.5)\n",
            "Requirement already satisfied: wasabi<1.2.0,>=0.9.1 in /usr/local/lib/python3.10/dist-packages (from spacy<3.8.0,>=3.7.2->en-core-web-md==3.7.1) (1.1.3)\n",
            "Requirement already satisfied: srsly<3.0.0,>=2.4.3 in /usr/local/lib/python3.10/dist-packages (from spacy<3.8.0,>=3.7.2->en-core-web-md==3.7.1) (2.4.8)\n",
            "Requirement already satisfied: catalogue<2.1.0,>=2.0.6 in /usr/local/lib/python3.10/dist-packages (from spacy<3.8.0,>=3.7.2->en-core-web-md==3.7.1) (2.0.10)\n",
            "Requirement already satisfied: weasel<0.5.0,>=0.1.0 in /usr/local/lib/python3.10/dist-packages (from spacy<3.8.0,>=3.7.2->en-core-web-md==3.7.1) (0.4.1)\n",
            "Requirement already satisfied: typer<1.0.0,>=0.3.0 in /usr/local/lib/python3.10/dist-packages (from spacy<3.8.0,>=3.7.2->en-core-web-md==3.7.1) (0.13.0)\n",
            "Requirement already satisfied: tqdm<5.0.0,>=4.38.0 in /usr/local/lib/python3.10/dist-packages (from spacy<3.8.0,>=3.7.2->en-core-web-md==3.7.1) (4.66.6)\n",
            "Requirement already satisfied: requests<3.0.0,>=2.13.0 in /usr/local/lib/python3.10/dist-packages (from spacy<3.8.0,>=3.7.2->en-core-web-md==3.7.1) (2.32.3)\n",
            "Requirement already satisfied: pydantic!=1.8,!=1.8.1,<3.0.0,>=1.7.4 in /usr/local/lib/python3.10/dist-packages (from spacy<3.8.0,>=3.7.2->en-core-web-md==3.7.1) (2.9.2)\n",
            "Requirement already satisfied: jinja2 in /usr/local/lib/python3.10/dist-packages (from spacy<3.8.0,>=3.7.2->en-core-web-md==3.7.1) (3.1.4)\n",
            "Requirement already satisfied: setuptools in /usr/local/lib/python3.10/dist-packages (from spacy<3.8.0,>=3.7.2->en-core-web-md==3.7.1) (75.1.0)\n",
            "Requirement already satisfied: packaging>=20.0 in /usr/local/lib/python3.10/dist-packages (from spacy<3.8.0,>=3.7.2->en-core-web-md==3.7.1) (24.2)\n",
            "Requirement already satisfied: langcodes<4.0.0,>=3.2.0 in /usr/local/lib/python3.10/dist-packages (from spacy<3.8.0,>=3.7.2->en-core-web-md==3.7.1) (3.4.1)\n",
            "Requirement already satisfied: numpy>=1.19.0 in /usr/local/lib/python3.10/dist-packages (from spacy<3.8.0,>=3.7.2->en-core-web-md==3.7.1) (1.24.3)\n",
            "Requirement already satisfied: language-data>=1.2 in /usr/local/lib/python3.10/dist-packages (from langcodes<4.0.0,>=3.2.0->spacy<3.8.0,>=3.7.2->en-core-web-md==3.7.1) (1.2.0)\n",
            "Requirement already satisfied: annotated-types>=0.6.0 in /usr/local/lib/python3.10/dist-packages (from pydantic!=1.8,!=1.8.1,<3.0.0,>=1.7.4->spacy<3.8.0,>=3.7.2->en-core-web-md==3.7.1) (0.7.0)\n",
            "Requirement already satisfied: pydantic-core==2.23.4 in /usr/local/lib/python3.10/dist-packages (from pydantic!=1.8,!=1.8.1,<3.0.0,>=1.7.4->spacy<3.8.0,>=3.7.2->en-core-web-md==3.7.1) (2.23.4)\n",
            "Requirement already satisfied: typing-extensions>=4.6.1 in /usr/local/lib/python3.10/dist-packages (from pydantic!=1.8,!=1.8.1,<3.0.0,>=1.7.4->spacy<3.8.0,>=3.7.2->en-core-web-md==3.7.1) (4.12.2)\n",
            "Requirement already satisfied: charset-normalizer<4,>=2 in /usr/local/lib/python3.10/dist-packages (from requests<3.0.0,>=2.13.0->spacy<3.8.0,>=3.7.2->en-core-web-md==3.7.1) (3.4.0)\n",
            "Requirement already satisfied: idna<4,>=2.5 in /usr/local/lib/python3.10/dist-packages (from requests<3.0.0,>=2.13.0->spacy<3.8.0,>=3.7.2->en-core-web-md==3.7.1) (3.10)\n",
            "Requirement already satisfied: urllib3<3,>=1.21.1 in /usr/local/lib/python3.10/dist-packages (from requests<3.0.0,>=2.13.0->spacy<3.8.0,>=3.7.2->en-core-web-md==3.7.1) (2.2.3)\n",
            "Requirement already satisfied: certifi>=2017.4.17 in /usr/local/lib/python3.10/dist-packages (from requests<3.0.0,>=2.13.0->spacy<3.8.0,>=3.7.2->en-core-web-md==3.7.1) (2024.8.30)\n",
            "Requirement already satisfied: blis<0.8.0,>=0.7.8 in /usr/local/lib/python3.10/dist-packages (from thinc<8.3.0,>=8.2.2->spacy<3.8.0,>=3.7.2->en-core-web-md==3.7.1) (0.7.11)\n",
            "Requirement already satisfied: confection<1.0.0,>=0.0.1 in /usr/local/lib/python3.10/dist-packages (from thinc<8.3.0,>=8.2.2->spacy<3.8.0,>=3.7.2->en-core-web-md==3.7.1) (0.1.5)\n",
            "Requirement already satisfied: click>=8.0.0 in /usr/local/lib/python3.10/dist-packages (from typer<1.0.0,>=0.3.0->spacy<3.8.0,>=3.7.2->en-core-web-md==3.7.1) (8.1.7)\n",
            "Requirement already satisfied: shellingham>=1.3.0 in /usr/local/lib/python3.10/dist-packages (from typer<1.0.0,>=0.3.0->spacy<3.8.0,>=3.7.2->en-core-web-md==3.7.1) (1.5.4)\n",
            "Requirement already satisfied: rich>=10.11.0 in /usr/local/lib/python3.10/dist-packages (from typer<1.0.0,>=0.3.0->spacy<3.8.0,>=3.7.2->en-core-web-md==3.7.1) (13.9.4)\n",
            "Requirement already satisfied: cloudpathlib<1.0.0,>=0.7.0 in /usr/local/lib/python3.10/dist-packages (from weasel<0.5.0,>=0.1.0->spacy<3.8.0,>=3.7.2->en-core-web-md==3.7.1) (0.20.0)\n",
            "Requirement already satisfied: smart-open<8.0.0,>=5.2.1 in /usr/local/lib/python3.10/dist-packages (from weasel<0.5.0,>=0.1.0->spacy<3.8.0,>=3.7.2->en-core-web-md==3.7.1) (7.0.5)\n",
            "Requirement already satisfied: MarkupSafe>=2.0 in /usr/local/lib/python3.10/dist-packages (from jinja2->spacy<3.8.0,>=3.7.2->en-core-web-md==3.7.1) (3.0.2)\n",
            "Requirement already satisfied: marisa-trie>=0.7.7 in /usr/local/lib/python3.10/dist-packages (from language-data>=1.2->langcodes<4.0.0,>=3.2.0->spacy<3.8.0,>=3.7.2->en-core-web-md==3.7.1) (1.2.1)\n",
            "Requirement already satisfied: markdown-it-py>=2.2.0 in /usr/local/lib/python3.10/dist-packages (from rich>=10.11.0->typer<1.0.0,>=0.3.0->spacy<3.8.0,>=3.7.2->en-core-web-md==3.7.1) (3.0.0)\n",
            "Requirement already satisfied: pygments<3.0.0,>=2.13.0 in /usr/local/lib/python3.10/dist-packages (from rich>=10.11.0->typer<1.0.0,>=0.3.0->spacy<3.8.0,>=3.7.2->en-core-web-md==3.7.1) (2.18.0)\n",
            "Requirement already satisfied: wrapt in /usr/local/lib/python3.10/dist-packages (from smart-open<8.0.0,>=5.2.1->weasel<0.5.0,>=0.1.0->spacy<3.8.0,>=3.7.2->en-core-web-md==3.7.1) (1.16.0)\n",
            "Requirement already satisfied: mdurl~=0.1 in /usr/local/lib/python3.10/dist-packages (from markdown-it-py>=2.2.0->rich>=10.11.0->typer<1.0.0,>=0.3.0->spacy<3.8.0,>=3.7.2->en-core-web-md==3.7.1) (0.1.2)\n",
            "\u001b[38;5;2m✔ Download and installation successful\u001b[0m\n",
            "You can now load the package via spacy.load('en_core_web_md')\n",
            "\u001b[38;5;3m⚠ Restart to reload dependencies\u001b[0m\n",
            "If you are in a Jupyter or Colab notebook, you may need to restart Python in\n",
            "order to load all the package's dependencies. You can do this by selecting the\n",
            "'Restart kernel' or 'Restart runtime' option.\n"
          ]
        }
      ]
    },
    {
      "cell_type": "code",
      "source": [
        "import spacy\n",
        "\n",
        "# Load the spaCy model with pre-trained word vectors (e.g., medium-sized English model)\n",
        "nlp = spacy.load('en_core_web_md')\n",
        "\n",
        "# Process a sentence using the model\n",
        "doc = nlp(\"This is some text that I am processing with Spacy\")\n"
      ],
      "metadata": {
        "id": "eF1p6SprB6Xg"
      },
      "execution_count": 33,
      "outputs": []
    },
    {
      "cell_type": "code",
      "source": [
        "# Access the vector for a specific word in the sentence ('text' in this case)\n",
        "print(doc[3].vector)"
      ],
      "metadata": {
        "id": "YtlL1F8WDYEN",
        "colab": {
          "base_uri": "https://localhost:8080/"
        },
        "outputId": "8677f539-9b9f-4115-fa3e-8ea72a86e82a"
      },
      "execution_count": 34,
      "outputs": [
        {
          "output_type": "stream",
          "name": "stdout",
          "text": [
            "[ 1.8153e+00 -3.0974e+00  7.8781e+00  1.7159e+00  1.3492e+00 -4.6307e+00\n",
            "  3.6709e+00 -8.5784e-02 -4.9755e+00 -8.4094e-01  1.0642e+01  6.8609e+00\n",
            " -9.2319e+00 -1.5872e-01 -3.8155e-01 -1.9255e-01  3.3571e+00  3.7723e+00\n",
            "  1.3672e+00  6.5571e+00 -6.5411e+00 -3.9489e-01 -5.2012e-01  5.5753e-01\n",
            " -3.4513e+00 -4.5028e+00 -1.5902e+00 -3.7582e+00 -4.8479e+00  2.5768e+00\n",
            " -7.2187e+00 -4.7998e+00 -1.8594e+00 -4.9777e-01 -2.4411e-01 -4.1268e+00\n",
            " -3.4901e+00 -4.8338e+00  4.3046e+00  2.6234e+00 -4.4230e-02 -1.3608e-02\n",
            " -8.8456e+00  3.7733e+00  2.6316e+00  3.4657e+00  4.3546e+00  1.1333e+00\n",
            " -3.7832e+00 -5.7349e+00 -3.3476e+00 -1.0848e+00  3.8662e+00 -1.7437e+00\n",
            " -9.9700e-01  4.1109e+00  1.0865e+00  3.2447e+00  1.9290e+00 -4.9990e+00\n",
            "  6.1250e+00  3.9852e+00 -5.0349e+00  2.2019e+00 -1.2268e+00  1.2217e+01\n",
            " -1.9911e-01 -6.9239e+00 -1.4570e-01  2.5162e+00 -4.3404e+00  5.0859e-01\n",
            " -2.5466e-01  1.1865e+00 -2.6420e+00  2.5545e+00 -2.7378e+00  3.4351e+00\n",
            " -3.8275e+00  3.9841e+00 -8.7007e-01 -3.5022e+00  2.4658e+00  1.1413e-01\n",
            "  7.0192e+00  1.5351e+00  6.3644e+00  1.7950e+00  1.3846e+00  1.9949e+00\n",
            " -2.5775e+00  6.8543e+00  4.9167e+00  1.0726e+00  4.2185e+00 -5.2995e+00\n",
            " -1.0998e+00  2.7981e+00 -2.9641e+00 -3.9380e+00  4.4521e+00  5.4607e+00\n",
            "  2.2630e+00 -4.3339e+00 -1.3492e+00  1.9899e+00  1.3943e+00 -6.4898e+00\n",
            " -1.1698e+00  2.6809e+00  7.4944e+00 -4.1128e+00  2.1884e+00  2.5359e+00\n",
            "  1.3449e+00 -2.4524e-01  8.9151e-01  1.4429e+00 -5.4536e+00 -4.6541e+00\n",
            " -2.4937e+00 -1.7425e+00  3.6180e+00  1.4103e+00  2.3171e+00 -5.6080e+00\n",
            "  2.9942e+00 -3.3632e+00 -3.1912e+00 -3.6574e+00 -6.8953e+00  1.5619e+00\n",
            " -2.8472e+00 -2.3034e+00  1.2764e+00  5.1938e-02 -2.1767e-01 -4.4340e-01\n",
            "  1.9860e+00 -3.9447e+00 -1.6374e-01 -3.3162e+00  3.0624e-01 -2.2645e+00\n",
            "  4.1747e+00  3.1061e-01  2.4868e+00  4.4836e+00  2.6715e+00  7.5077e+00\n",
            " -2.6008e+00  5.2290e+00 -1.9564e-02  8.6515e-01  4.9600e-01 -2.7190e+00\n",
            "  2.1371e+00  4.7286e+00  2.7932e-01 -1.8440e+00  3.1654e+00 -1.1175e-01\n",
            "  8.9190e-01 -1.1452e+00 -2.5718e+00 -3.7142e+00 -6.9255e+00  1.1165e+00\n",
            " -3.4216e+00 -1.3337e+00 -7.1805e-01  7.2577e-01 -2.7242e+00  1.8017e+00\n",
            "  9.0910e+00  8.8726e-03  1.6012e+00  3.4569e+00 -5.0202e+00 -5.4944e+00\n",
            "  8.7428e+00 -2.9288e+00 -9.9861e-01 -2.6903e+00  5.0044e+00  2.7749e-01\n",
            "  1.3357e+00 -6.9442e+00  1.4123e+00 -6.2846e+00 -4.5341e+00 -3.6088e+00\n",
            " -4.5898e+00  2.7224e+00  5.0870e+00  3.1570e+00 -3.4397e+00  3.1942e+00\n",
            "  5.1315e+00  9.1256e+00 -1.9185e+00 -1.8924e+00 -1.6918e+00 -5.2486e+00\n",
            "  1.0434e+00  3.9521e+00  2.6612e+00 -4.0238e+00  3.6476e+00  1.0760e+00\n",
            "  2.2546e+00 -2.9131e+00  4.1481e+00  6.7236e+00  4.2079e-01  1.2782e+00\n",
            "  9.1259e-01 -2.7402e+00  5.7157e-01  3.2752e+00  3.8041e+00 -2.3013e-01\n",
            "  2.4876e+00  3.8989e-01 -4.7766e+00 -3.4029e+00  5.0152e+00  5.2771e-01\n",
            "  8.9613e-01 -5.0365e+00  1.0466e-01 -1.8650e+00  7.6624e-01 -5.4027e+00\n",
            " -1.3898e-01  5.2780e+00  4.3138e+00  4.1568e+00  2.9571e+00 -1.3304e+00\n",
            " -6.7570e+00 -1.9064e+00 -1.2822e+00  5.4065e+00  4.0695e+00 -3.6669e+00\n",
            " -3.1327e+00 -4.1047e+00  3.6837e+00 -1.2322e+00  2.2510e+00 -5.5596e+00\n",
            "  1.1376e-01 -4.2178e+00 -1.4326e+00  2.0191e+00 -9.3392e-02  1.2639e+00\n",
            "  8.5859e-02  2.7242e-01  4.6008e+00  3.1308e+00  5.4251e-01 -1.7078e+00\n",
            "  1.9982e+00  4.7233e+00 -3.0300e+00  4.8159e+00 -7.5448e+00 -6.8540e+00\n",
            "  9.2230e-01 -4.3552e+00 -1.2993e+00 -3.7137e+00 -5.2262e+00  1.2077e+00\n",
            "  5.9088e-01  3.6372e+00 -3.1487e+00  1.8208e+00 -1.5681e+00 -1.8223e+00\n",
            "  4.3911e+00  3.1354e+00  5.3926e+00  2.3312e+00  3.3455e+00 -3.2092e+00\n",
            " -1.0546e+00  3.1676e+00  3.7958e+00 -6.1199e-01  4.8044e+00 -3.9273e+00\n",
            " -1.3952e-01  1.6868e+00  5.2596e+00 -4.0270e+00 -4.8126e+00 -1.8458e+00]\n"
          ]
        }
      ]
    },
    {
      "cell_type": "code",
      "source": [
        "# Compute the mean vector for the entire sentence (useful for tasks like sentence classification)\n",
        "print(doc.vector)"
      ],
      "metadata": {
        "id": "xa-xbphBC1Kt",
        "colab": {
          "base_uri": "https://localhost:8080/"
        },
        "outputId": "96677a45-c91e-48fa-e8d2-7b16b528b765"
      },
      "execution_count": 35,
      "outputs": [
        {
          "output_type": "stream",
          "name": "stdout",
          "text": [
            "[ 0.30563405 -0.427069    0.500811   -1.6580696  -0.94629    -0.23934703\n",
            "  0.028577    4.295377   -3.8321986   1.7672628   6.658099    1.1359228\n",
            " -3.006612   -0.50961006  2.3700955   0.703461    2.34051    -0.3941861\n",
            " -1.369067    0.59585994  1.3248701   2.0000231  -3.4256172  -2.002854\n",
            " -2.0418718  -2.193501   -1.819932   -1.423071   -2.0385802  -0.10317302\n",
            " -0.46430922 -0.14729555 -3.394214   -0.04532397 -2.269256    0.17045009\n",
            " -0.13494173  0.932325    5.7848444   2.148113   -1.5996732   2.2030263\n",
            " -0.79875904 -1.350127   -1.3724102   2.8075051   3.299128   -2.831655\n",
            " -2.130708    0.97382486  1.6305139  -0.57544106  2.093894   -4.6533303\n",
            " -1.3734801   0.5552629   2.419354    2.0564501   0.612147    0.47596803\n",
            "  4.43481     0.15596    -1.7175634   0.38855594 -0.89715827  2.3118348\n",
            " -2.541205   -4.31619     2.454495    3.79598    -1.0783069   2.722444\n",
            " -0.92606604 -0.476808    0.39366612  1.075635   -2.3088498   1.0753001\n",
            " -2.818402   -1.405414   -3.3402772  -2.546393    2.4205518  -0.831272\n",
            "  2.9896379  -0.20465302  0.02480499 -1.08067     1.8324687  -2.684995\n",
            " -1.067833   -0.7799639   3.34584    -6.33815     0.24058883 -1.7337329\n",
            "  0.30885807 -2.472527    0.22089107 -2.8528237   1.5645981   1.3620209\n",
            "  1.4146221   1.2246253  -1.0189512   3.9332752  -0.14244299  0.05134308\n",
            " -0.70787704  0.98634833  0.983918   -2.489817   -0.37863597  1.056667\n",
            "  0.07038905  0.93299186 -3.3040612  -1.459826   -1.255954   -1.58012\n",
            " -3.6165156  -1.7077968  -0.01509399  4.0862784  -1.2418749  -3.802525\n",
            "  0.69377816 -2.7189171  -0.43720597 -1.180317   -3.370336    0.90560806\n",
            "  2.477566   -3.4777691  -2.2713912   1.8330419  -1.2760999  -1.113861\n",
            "  6.059766   -0.91248095 -0.28656003 -1.235962    1.1542532  -0.8326079\n",
            " -0.7066811  -0.608421   -3.4267292  -0.5314786  -1.69789     2.332994\n",
            " -0.65697306  1.920978   -1.7829889   0.04741685 -0.49004602  1.8466461\n",
            "  2.4439702   1.4111999  -0.009308   -2.5239038  -1.1275359  -2.8978336\n",
            " -1.0351676  -0.07996996 -2.0385349  -1.6165011  -2.9758508   1.9204849\n",
            "  0.31267795 -1.2895534   1.3995272  -1.082098   -0.5246801   2.1325269\n",
            "  3.163244   -2.4248405   0.70356     1.7774343  -1.693312   -0.568895\n",
            " -0.05817306 -0.2480501   4.498539   -0.63889605 -0.40738302  1.8994381\n",
            " -2.1067774  -3.572049    1.607991    3.5211303  -3.307549   -0.83129996\n",
            " -0.93277705 -0.10384001  2.5165267   1.4800619  -4.7294197   3.162191\n",
            "  2.114223    2.16163    -1.7953751  -1.064044   -2.5254931  -1.923002\n",
            "  1.45557     2.5316222  -2.79178    -0.44553915 -0.649095   -0.5323398\n",
            "  2.522916    1.023482    0.7430055   3.5510612  -2.178901    0.22337899\n",
            " -0.08578251 -1.85267     0.57078296  1.0050399  -0.96648586  0.23848796\n",
            "  2.0102868   0.29869002  1.31451    -1.1515701   1.6161289   1.820121\n",
            "  0.17467909 -0.17713399 -2.47082    -4.20842     0.7466057   0.39972296\n",
            " -1.3546581   1.5044      0.955846    1.037893    1.314671   -0.180228\n",
            " -3.1153862  -0.8942631   0.46362194  0.87325984 -0.427061   -2.4928\n",
            " -2.0991445   0.9411739   3.6993728   4.311467    0.35995802  0.599337\n",
            " -5.014844   -0.8915901  -0.529793   -1.960756    0.64939874  2.959001\n",
            " -2.160853    2.027445    0.1151435   5.409936    2.931291    4.8695498\n",
            "  0.76259595 -0.03534485 -0.15046     3.029665   -5.237672    0.836624\n",
            " -0.128725   -3.191173   -0.607369   -2.1881042  -0.55797005 -0.7237069\n",
            "  0.85019004 -1.941087    0.384834    1.5398511  -0.7949482  -1.5606661\n",
            "  0.54367006  1.0514437   5.35902    -1.2420781   3.3212998   0.6925169\n",
            " -1.1787201   2.5486398   4.4299192  -1.4245069   2.452001   -1.73069\n",
            " -1.6239288   0.6340111   1.7662709  -1.320726   -4.7119703   2.9724488 ]\n"
          ]
        }
      ]
    },
    {
      "cell_type": "code",
      "source": [
        "# Calculate and print pairwise similarity between words in the sentence\n",
        "for token1 in doc:\n",
        "    for token2 in doc:\n",
        "        print(token1.text, token2.text, token1.similarity(token2))"
      ],
      "metadata": {
        "id": "qIOPpeN6DdUh",
        "colab": {
          "base_uri": "https://localhost:8080/"
        },
        "outputId": "a9c2605b-5596-4a69-9879-636b0c43c88e"
      },
      "execution_count": 36,
      "outputs": [
        {
          "output_type": "stream",
          "name": "stdout",
          "text": [
            "This This 1.0\n",
            "This is 0.33004632592201233\n",
            "This some 0.24250605702400208\n",
            "This text 0.2716616094112396\n",
            "This that 0.5569509863853455\n",
            "This I 0.08404187113046646\n",
            "This am -0.002161499811336398\n",
            "This processing 0.2896030843257904\n",
            "This with 0.15823045372962952\n",
            "This Spacy 0.06101519986987114\n",
            "is This 0.33004632592201233\n",
            "is is 1.0\n",
            "is some 0.059397317469120026\n",
            "is text 0.1460038721561432\n",
            "is that 0.2169177383184433\n",
            "is I -0.03865250200033188\n",
            "is am 0.2828182876110077\n",
            "is processing 0.260284423828125\n",
            "is with 0.14277568459510803\n",
            "is Spacy 0.013314799405634403\n",
            "some This 0.24250605702400208\n",
            "some is 0.059397317469120026\n",
            "some some 1.0\n",
            "some text 0.20895916223526\n",
            "some that 0.629945695400238\n",
            "some I 0.26991626620292664\n",
            "some am 0.002679702127352357\n",
            "some processing 0.42158010601997375\n",
            "some with 0.37570667266845703\n",
            "some Spacy -0.09288690239191055\n",
            "text This 0.2716616094112396\n",
            "text is 0.1460038721561432\n",
            "text some 0.20895916223526\n",
            "text text 1.0\n",
            "text that 0.30561015009880066\n",
            "text I 0.11607496440410614\n",
            "text am 0.049741607159376144\n",
            "text processing 0.3188279867172241\n",
            "text with 0.13025221228599548\n",
            "text Spacy 0.054825056344270706\n",
            "that This 0.5569509863853455\n",
            "that is 0.2169177383184433\n",
            "that some 0.629945695400238\n",
            "that text 0.30561015009880066\n",
            "that that 1.0\n",
            "that I 0.3139243423938751\n",
            "that am 0.007961479015648365\n",
            "that processing 0.4808860421180725\n",
            "that with 0.35059982538223267\n",
            "that Spacy -0.010095037519931793\n",
            "I This 0.08404187113046646\n",
            "I is -0.03865250200033188\n",
            "I some 0.26991626620292664\n",
            "I text 0.11607496440410614\n",
            "I that 0.3139243423938751\n",
            "I I 1.0\n",
            "I am 0.35462167859077454\n",
            "I processing -0.04475337639451027\n",
            "I with -0.07434771209955215\n",
            "I Spacy -0.160018652677536\n",
            "am This -0.002161499811336398\n",
            "am is 0.2828182876110077\n",
            "am some 0.002679702127352357\n",
            "am text 0.049741607159376144\n",
            "am that 0.007961479015648365\n",
            "am I 0.35462167859077454\n",
            "am am 1.0\n",
            "am processing -0.06560071557760239\n",
            "am with -0.137899249792099\n",
            "am Spacy -0.13057127594947815\n",
            "processing This 0.2896030843257904\n",
            "processing is 0.260284423828125\n",
            "processing some 0.42158010601997375\n",
            "processing text 0.3188279867172241\n",
            "processing that 0.4808860421180725\n",
            "processing I -0.04475337639451027\n",
            "processing am -0.06560071557760239\n",
            "processing processing 1.0\n",
            "processing with 0.433405339717865\n",
            "processing Spacy 0.09267879277467728\n",
            "with This 0.15823045372962952\n",
            "with is 0.14277568459510803\n",
            "with some 0.37570667266845703\n",
            "with text 0.13025221228599548\n",
            "with that 0.35059982538223267\n",
            "with I -0.07434771209955215\n",
            "with am -0.137899249792099\n",
            "with processing 0.433405339717865\n",
            "with with 1.0\n",
            "with Spacy 0.08695710450410843\n",
            "Spacy This 0.06101519986987114\n",
            "Spacy is 0.013314799405634403\n",
            "Spacy some -0.09288690239191055\n",
            "Spacy text 0.054825056344270706\n",
            "Spacy that -0.010095037519931793\n",
            "Spacy I -0.160018652677536\n",
            "Spacy am -0.13057127594947815\n",
            "Spacy processing 0.09267879277467728\n",
            "Spacy with 0.08695710450410843\n",
            "Spacy Spacy 1.0\n"
          ]
        }
      ]
    },
    {
      "cell_type": "markdown",
      "source": [
        "### Feature Engineering Comparison\n",
        "\n",
        "This table summarizes the availability of different feature engineering techniques across various NLP libraries.\n",
        "\n",
        "| Feature Engineering | sklearn | Pattern | NLTK | gensim | spaCy |\n",
        "|---------------------|:-------:|:-------:|:----:|:------:|:-----:|\n",
        "| Bag of Words        |    ✓    |         |      |        |       |\n",
        "| TF-IDF              |    ✓    |    ✓    |   ✓  |        |       |\n",
        "| Word Embedding      |         |         |      |    ✓   |   ✓   |\n"
      ],
      "metadata": {
        "id": "MJPuNw4qDyo-"
      }
    },
    {
      "cell_type": "markdown",
      "source": [
        "### Model Construction (Data Modeling)\n",
        "\n",
        "#### 2. Data Modeling Techniques\n",
        "\n",
        "- **Text Classification**: Assigns predefined categories to text based on its content. Commonly used for spam detection, sentiment analysis, and topic labeling.\n",
        "\n",
        "- **Text Clustering**: Groups similar documents or text segments without predefined labels, often used for organizing large datasets or discovering hidden patterns.\n",
        "\n",
        "- **Sentiment Analysis**: Analyzes text to determine the sentiment or emotional tone, such as positive, negative, or neutral. Useful for customer feedback analysis and social media monitoring.\n",
        "\n",
        "- **Document Summarization**: Automatically generates a concise summary of a longer document, retaining key information and main points.\n",
        "\n",
        "- **Topic Modeling (LDA)**: Identifies the underlying topics present in a collection of documents. Latent Dirichlet Allocation (LDA) is a popular algorithm for this purpose.\n",
        "\n",
        "- **N-grams**: Represents sequences of n items (usually words) from a given text. Useful in various NLP tasks like language modeling and text generation.\n"
      ],
      "metadata": {
        "id": "1thUjj-6EJdC"
      }
    },
    {
      "cell_type": "markdown",
      "source": [
        "### Data Modeling with NLTK\n",
        "\n",
        "**NLTK (Natural Language Toolkit)** is a foundational library for NLP, widely used for educational purposes and as a standard for many NLP tasks. It provides various features for data modeling:\n",
        "\n",
        "- **Classify**: NLTK includes tools for text classification, allowing you to categorize text into predefined classes using various algorithms and methods. Key classifiers include:\n",
        "\n",
        "  - **Decision Tree Classifier**\n",
        "  - **Naive Bayes Classifier**\n",
        "  - **Scikit-learn Classifier**\n",
        "  - **Support Vector Machine (SVM) Classifier**\n",
        "  \n",
        "  Additionally, you can use specific classifiers such as:\n",
        "  \n",
        "  - **Positive Naive Bayes Classifier**: `from nltk.classify import PositiveNaiveBayesClassifier`\n",
        "  \n",
        "NLTK's comprehensive suite of functionalities makes it an invaluable resource for learning and implementing NLP techniques.\n"
      ],
      "metadata": {
        "id": "oCZq3HlfHE_k"
      }
    },
    {
      "cell_type": "code",
      "source": [
        "import nltk\n",
        "from nltk.corpus import movie_reviews\n",
        "from nltk.classify import NaiveBayesClassifier\n",
        "from nltk.classify.util import accuracy\n",
        "\n",
        "# Download the movie reviews dataset if not already available\n",
        "nltk.download('movie_reviews')"
      ],
      "metadata": {
        "id": "yi_ERuDBDiDT",
        "colab": {
          "base_uri": "https://localhost:8080/"
        },
        "outputId": "8565e49d-230d-445c-db0e-f2a38bce9933"
      },
      "execution_count": 37,
      "outputs": [
        {
          "output_type": "stream",
          "name": "stderr",
          "text": [
            "[nltk_data] Downloading package movie_reviews to /root/nltk_data...\n",
            "[nltk_data]   Package movie_reviews is already up-to-date!\n"
          ]
        },
        {
          "output_type": "execute_result",
          "data": {
            "text/plain": [
              "True"
            ]
          },
          "metadata": {},
          "execution_count": 37
        }
      ]
    },
    {
      "cell_type": "code",
      "source": [
        "# Feature extraction function\n",
        "def extract_features(words):\n",
        "    return {word: True for word in words}\n",
        "\n",
        "# Load and prepare the dataset\n",
        "# The movie_reviews corpus is already split into positive and negative reviews\n",
        "documents = [(extract_features(movie_reviews.words(fileid)), category)\n",
        "             for category in movie_reviews.categories()\n",
        "             for fileid in movie_reviews.fileids(category)]"
      ],
      "metadata": {
        "id": "-jZK3MerHyki"
      },
      "execution_count": 38,
      "outputs": []
    },
    {
      "cell_type": "code",
      "source": [
        "# Shuffle the data to ensure it is random\n",
        "import random\n",
        "random.shuffle(documents)\n",
        "\n",
        "# Split the data into training and testing sets\n",
        "train_size = int(len(documents) * 0.8)\n",
        "train_set, test_set = documents[:train_size], documents[train_size:]"
      ],
      "metadata": {
        "id": "S97nzJujH1T7"
      },
      "execution_count": 39,
      "outputs": []
    },
    {
      "cell_type": "code",
      "source": [
        "# Train the Naive Bayes classifier\n",
        "classifier = NaiveBayesClassifier.train(train_set)\n",
        "\n",
        "# Test the classifier\n",
        "accuracy_score = accuracy(classifier, test_set)\n",
        "print(f'Accuracy: {accuracy_score:.2f}')"
      ],
      "metadata": {
        "id": "oy-rA6ZmH4Mv",
        "colab": {
          "base_uri": "https://localhost:8080/"
        },
        "outputId": "50c50f3c-07bf-4a9e-bb9a-e3b31b4ffa62"
      },
      "execution_count": 40,
      "outputs": [
        {
          "output_type": "stream",
          "name": "stdout",
          "text": [
            "Accuracy: 0.71\n"
          ]
        }
      ]
    },
    {
      "cell_type": "code",
      "source": [
        "\n",
        "# Show the most informative features\n",
        "classifier.show_most_informative_features(10)"
      ],
      "metadata": {
        "id": "-McIlyvMH9dD",
        "colab": {
          "base_uri": "https://localhost:8080/"
        },
        "outputId": "6c728920-f8c7-4703-dfe1-2f56ef0e34ea"
      },
      "execution_count": 41,
      "outputs": [
        {
          "output_type": "stream",
          "name": "stdout",
          "text": [
            "Most Informative Features\n",
            "               ludicrous = True              neg : pos    =     21.6 : 1.0\n",
            "                captures = True              pos : neg    =     15.9 : 1.0\n",
            "                  seagal = True              neg : pos    =     12.0 : 1.0\n",
            "             uninvolving = True              neg : pos    =     12.0 : 1.0\n",
            "             outstanding = True              pos : neg    =     11.3 : 1.0\n",
            "                    slip = True              pos : neg    =     11.3 : 1.0\n",
            "                 garbage = True              neg : pos    =     10.9 : 1.0\n",
            "             fascination = True              pos : neg    =     10.7 : 1.0\n",
            "               marvelous = True              pos : neg    =     10.7 : 1.0\n",
            "                 insipid = True              neg : pos    =     10.6 : 1.0\n"
          ]
        }
      ]
    },
    {
      "cell_type": "markdown",
      "source": [
        "## Clustering with K-means (NLTK)\n",
        "\n",
        "### Overview\n",
        "\n",
        "K-means clustering is a popular unsupervised learning algorithm used to partition a set of data points into a specified number of clusters. Each data point belongs to the cluster with the nearest mean."
      ],
      "metadata": {
        "id": "5dMNJzrAPymf"
      }
    },
    {
      "cell_type": "code",
      "source": [
        "import nltk\n",
        "from nltk.cluster import KMeansClusterer\n",
        "from sklearn.feature_extraction.text import CountVectorizer\n",
        "\n",
        "# Example documents (texts to cluster)\n",
        "documents = [\n",
        "    'This is a document about machine learning.',\n",
        "    'Machine learning and artificial intelligence are closely related.',\n",
        "    'I love programming in Python.',\n",
        "    'Python is a popular programming language.',\n",
        "    'Artificial intelligence includes machine learning.',\n",
        "    'Programming languages like Python and Java are used in AI.',\n",
        "]"
      ],
      "metadata": {
        "id": "ljDmG-VTH-vu"
      },
      "execution_count": 42,
      "outputs": []
    },
    {
      "cell_type": "code",
      "source": [
        "# Convert text documents into a matrix of token counts\n",
        "vectorizer = CountVectorizer()\n",
        "X = vectorizer.fit_transform(documents).toarray()"
      ],
      "metadata": {
        "id": "2wbd-Iu5P49w"
      },
      "execution_count": 43,
      "outputs": []
    },
    {
      "cell_type": "code",
      "source": [
        "# Define the number of clusters\n",
        "num_clusters = 2\n",
        "\n",
        "# Perform K-means clustering\n",
        "kmeans = KMeansClusterer(num_clusters, distance=nltk.cluster.util.cosine_distance, repeats=25)\n",
        "clusters = kmeans.cluster(X, assign_clusters=True)"
      ],
      "metadata": {
        "id": "64F-DRR7QXRU"
      },
      "execution_count": 44,
      "outputs": []
    },
    {
      "cell_type": "code",
      "source": [
        "# Print the cluster assignments\n",
        "for i, document in enumerate(documents):\n",
        "    print(f\"Document: {document}\")\n",
        "    print(f\"Cluster: {clusters[i]}\")\n",
        "    print()"
      ],
      "metadata": {
        "id": "WkRYH2mqQaAG",
        "colab": {
          "base_uri": "https://localhost:8080/"
        },
        "outputId": "97fd4ad1-3c18-4494-f357-6fe3a9b5edf1"
      },
      "execution_count": 45,
      "outputs": [
        {
          "output_type": "stream",
          "name": "stdout",
          "text": [
            "Document: This is a document about machine learning.\n",
            "Cluster: 0\n",
            "\n",
            "Document: Machine learning and artificial intelligence are closely related.\n",
            "Cluster: 0\n",
            "\n",
            "Document: I love programming in Python.\n",
            "Cluster: 1\n",
            "\n",
            "Document: Python is a popular programming language.\n",
            "Cluster: 1\n",
            "\n",
            "Document: Artificial intelligence includes machine learning.\n",
            "Cluster: 0\n",
            "\n",
            "Document: Programming languages like Python and Java are used in AI.\n",
            "Cluster: 1\n",
            "\n"
          ]
        }
      ]
    },
    {
      "cell_type": "markdown",
      "source": [
        "## Sentiment Analyzer with NLTK\n",
        "\n",
        "### Overview\n",
        "\n",
        "Sentiment analysis is a technique used to determine the sentiment or emotional tone of a piece of text. NLTK provides tools for performing sentiment analysis through its `SentimentIntensityAnalyzer`."
      ],
      "metadata": {
        "id": "trNLfl9WR4ww"
      }
    },
    {
      "cell_type": "code",
      "source": [
        "# Import the SentimentIntensityAnalyzer class from nltk\n",
        "from nltk.sentiment import SentimentIntensityAnalyzer\n",
        "import nltk\n",
        "\n",
        "# Download the VADER lexicon if not already installed\n",
        "nltk.download('vader_lexicon')\n",
        "\n",
        "# Initialize the SentimentIntensityAnalyzer\n",
        "sia = SentimentIntensityAnalyzer()\n",
        "\n",
        "# Example sentences to analyze\n",
        "sentences = [\n",
        "    \"I love this product! It's absolutely wonderful.\",\n",
        "    \"This is the worst experience I've ever had.\",\n",
        "    \"I'm not sure how I feel about this.\",\n",
        "    \"The service was okay, but could be improved.\"\n",
        "]"
      ],
      "metadata": {
        "id": "sPyWjmZWQdiN",
        "colab": {
          "base_uri": "https://localhost:8080/"
        },
        "outputId": "ba5df94f-5d10-4e08-c66e-3f0f50a4078d"
      },
      "execution_count": 46,
      "outputs": [
        {
          "output_type": "stream",
          "name": "stderr",
          "text": [
            "[nltk_data] Downloading package vader_lexicon to /root/nltk_data...\n",
            "[nltk_data]   Package vader_lexicon is already up-to-date!\n"
          ]
        }
      ]
    },
    {
      "cell_type": "code",
      "source": [
        "# Perform sentiment analysis\n",
        "for sentence in sentences:\n",
        "    sentiment_score = sia.polarity_scores(sentence)\n",
        "    print(f\"Sentence: {sentence}\")\n",
        "    print(f\"Sentiment Score: {sentiment_score}\")\n",
        "    print()"
      ],
      "metadata": {
        "id": "58U5B2JoSABV",
        "colab": {
          "base_uri": "https://localhost:8080/"
        },
        "outputId": "2274388f-85f5-437d-a6b0-8e175582c825"
      },
      "execution_count": 47,
      "outputs": [
        {
          "output_type": "stream",
          "name": "stdout",
          "text": [
            "Sentence: I love this product! It's absolutely wonderful.\n",
            "Sentiment Score: {'neg': 0.0, 'neu': 0.32, 'pos': 0.68, 'compound': 0.8585}\n",
            "\n",
            "Sentence: This is the worst experience I've ever had.\n",
            "Sentiment Score: {'neg': 0.369, 'neu': 0.631, 'pos': 0.0, 'compound': -0.6249}\n",
            "\n",
            "Sentence: I'm not sure how I feel about this.\n",
            "Sentiment Score: {'neg': 0.246, 'neu': 0.754, 'pos': 0.0, 'compound': -0.2411}\n",
            "\n",
            "Sentence: The service was okay, but could be improved.\n",
            "Sentiment Score: {'neg': 0.0, 'neu': 0.517, 'pos': 0.483, 'compound': 0.6808}\n",
            "\n"
          ]
        }
      ]
    },
    {
      "cell_type": "markdown",
      "source": [
        "## N-grams\n",
        "\n",
        "### Overview\n",
        "\n",
        "N-grams are contiguous sequences of \\( n \\) items from a given text or speech. They are commonly used in Natural Language Processing (NLP) for various tasks such as text analysis, language modeling, and machine learning. N-grams can be used to capture the context and meaning of words based on their surrounding words.\n",
        "\n",
        "### Types of N-grams\n",
        "\n",
        "- **Unigrams (1-grams)**: Single words or tokens.\n",
        "  - Example: \"This is a test.\" → [\"This\", \"is\", \"a\", \"test\"]\n",
        "\n",
        "- **Bigrams (2-grams)**: Sequences of two adjacent words or tokens.\n",
        "  - Example: \"This is a test.\" → [\"This is\", \"is a\", \"a test\"]\n",
        "\n",
        "- **Trigrams (3-grams)**: Sequences of three adjacent words or tokens.\n",
        "  - Example: \"This is a test.\" → [\"This is a\", \"is a test\"]\n",
        "\n",
        "- **N-grams (n-grams)**: Sequences of \\( n \\) adjacent words or tokens.\n",
        "  - Example (for \\( n = 4 \\)): \"This is a test.\" → [\"This is a test\"]"
      ],
      "metadata": {
        "id": "ROa-sBI5c9jm"
      }
    },
    {
      "cell_type": "code",
      "source": [
        "from nltk import ngrams\n",
        "from nltk.tokenize import word_tokenize\n",
        "\n",
        "# Example sentence\n",
        "sentence = \"This is a simple example of generating n-grams.\"\n",
        "\n",
        "# Tokenize the sentence\n",
        "tokens = word_tokenize(sentence)\n",
        "\n",
        "# Generate bigrams (2-grams)\n",
        "bigrams = list(ngrams(tokens, 2))\n",
        "print(\"Bigrams:\", bigrams)\n",
        "\n",
        "# Generate trigrams (3-grams)\n",
        "trigrams = list(ngrams(tokens, 3))\n",
        "print(\"Trigrams:\", trigrams)"
      ],
      "metadata": {
        "id": "6ilct8fkSCpi",
        "colab": {
          "base_uri": "https://localhost:8080/"
        },
        "outputId": "193dc0af-69f5-4ae0-bd59-c4a7793a60d3"
      },
      "execution_count": 48,
      "outputs": [
        {
          "output_type": "stream",
          "name": "stdout",
          "text": [
            "Bigrams: [('This', 'is'), ('is', 'a'), ('a', 'simple'), ('simple', 'example'), ('example', 'of'), ('of', 'generating'), ('generating', 'n-grams'), ('n-grams', '.')]\n",
            "Trigrams: [('This', 'is', 'a'), ('is', 'a', 'simple'), ('a', 'simple', 'example'), ('simple', 'example', 'of'), ('example', 'of', 'generating'), ('of', 'generating', 'n-grams'), ('generating', 'n-grams', '.')]\n"
          ]
        }
      ]
    },
    {
      "cell_type": "markdown",
      "source": [
        "\n",
        "| Technique        | Pattern | NLTK | TextBlob |\n",
        "|------------------|---------|------|----------|\n",
        "| **Text Classification** | ✓       | ✓    | ✓        |\n",
        "| **Text Clustering**      | ✓       | ✓    |          |\n",
        "| **Sentiment Analysis**   |         | ✓    | ✓        |\n",
        "| **Topics Model (LDA)**   | ✓       |      |          |\n",
        "| **N-grams**              |         | ✓    | ✓        |\n"
      ],
      "metadata": {
        "id": "QxJuzX_Wde8S"
      }
    },
    {
      "cell_type": "markdown",
      "source": [
        "## Showing Results\n",
        "- **spaCy**: Primarily for natural language processing tasks, not directly used for visualizations like dendrograms or word clouds.\n",
        "- **WordCloud**: Specialized library for creating word clouds.\n",
        "- **matplotlib**: Versatile library for creating various types of plots and visualizations including dendrograms, histograms, and correlation plots.\n"
      ],
      "metadata": {
        "id": "oW_Bbyosg40N"
      }
    },
    {
      "cell_type": "markdown",
      "source": [
        "## Dependency Visualizer\n",
        "\n",
        "**Purpose**: Visualize the syntactic dependencies within a sentence using spaCy's `displacy` module.\n"
      ],
      "metadata": {
        "id": "2XlaItzlhG_d"
      }
    },
    {
      "cell_type": "code",
      "source": [
        "import spacy\n",
        "from spacy import displacy\n",
        "from IPython.display import display, HTML\n",
        "\n",
        "# Load the spaCy model\n",
        "nlp = spacy.load('en_core_web_sm')\n",
        "\n",
        "# Process a sentence\n",
        "doc = nlp(\"This is a sentence.\")\n",
        "\n",
        "# Visualize dependencies\n",
        "# displacy.serve(doc)\n",
        "html = displacy.render(doc, style='dep', jupyter=True)\n",
        "display(HTML(html))"
      ],
      "metadata": {
        "id": "4KQlfMmbdNw2",
        "colab": {
          "base_uri": "https://localhost:8080/",
          "height": 351
        },
        "outputId": "296408cc-787d-4f51-85b7-02c3811d675a"
      },
      "execution_count": 49,
      "outputs": [
        {
          "output_type": "display_data",
          "data": {
            "text/plain": [
              "<IPython.core.display.HTML object>"
            ],
            "text/html": [
              "<span class=\"tex2jax_ignore\"><svg xmlns=\"http://www.w3.org/2000/svg\" xmlns:xlink=\"http://www.w3.org/1999/xlink\" xml:lang=\"en\" id=\"ceaa67efb89d4719bb6b70139bfbb8d3-0\" class=\"displacy\" width=\"750\" height=\"312.0\" direction=\"ltr\" style=\"max-width: none; height: 312.0px; color: #000000; background: #ffffff; font-family: Arial; direction: ltr\">\n",
              "<text class=\"displacy-token\" fill=\"currentColor\" text-anchor=\"middle\" y=\"222.0\">\n",
              "    <tspan class=\"displacy-word\" fill=\"currentColor\" x=\"50\">This</tspan>\n",
              "    <tspan class=\"displacy-tag\" dy=\"2em\" fill=\"currentColor\" x=\"50\">PRON</tspan>\n",
              "</text>\n",
              "\n",
              "<text class=\"displacy-token\" fill=\"currentColor\" text-anchor=\"middle\" y=\"222.0\">\n",
              "    <tspan class=\"displacy-word\" fill=\"currentColor\" x=\"225\">is</tspan>\n",
              "    <tspan class=\"displacy-tag\" dy=\"2em\" fill=\"currentColor\" x=\"225\">AUX</tspan>\n",
              "</text>\n",
              "\n",
              "<text class=\"displacy-token\" fill=\"currentColor\" text-anchor=\"middle\" y=\"222.0\">\n",
              "    <tspan class=\"displacy-word\" fill=\"currentColor\" x=\"400\">a</tspan>\n",
              "    <tspan class=\"displacy-tag\" dy=\"2em\" fill=\"currentColor\" x=\"400\">DET</tspan>\n",
              "</text>\n",
              "\n",
              "<text class=\"displacy-token\" fill=\"currentColor\" text-anchor=\"middle\" y=\"222.0\">\n",
              "    <tspan class=\"displacy-word\" fill=\"currentColor\" x=\"575\">sentence.</tspan>\n",
              "    <tspan class=\"displacy-tag\" dy=\"2em\" fill=\"currentColor\" x=\"575\">NOUN</tspan>\n",
              "</text>\n",
              "\n",
              "<g class=\"displacy-arrow\">\n",
              "    <path class=\"displacy-arc\" id=\"arrow-ceaa67efb89d4719bb6b70139bfbb8d3-0-0\" stroke-width=\"2px\" d=\"M70,177.0 C70,89.5 220.0,89.5 220.0,177.0\" fill=\"none\" stroke=\"currentColor\"/>\n",
              "    <text dy=\"1.25em\" style=\"font-size: 0.8em; letter-spacing: 1px\">\n",
              "        <textPath xlink:href=\"#arrow-ceaa67efb89d4719bb6b70139bfbb8d3-0-0\" class=\"displacy-label\" startOffset=\"50%\" side=\"left\" fill=\"currentColor\" text-anchor=\"middle\">nsubj</textPath>\n",
              "    </text>\n",
              "    <path class=\"displacy-arrowhead\" d=\"M70,179.0 L62,167.0 78,167.0\" fill=\"currentColor\"/>\n",
              "</g>\n",
              "\n",
              "<g class=\"displacy-arrow\">\n",
              "    <path class=\"displacy-arc\" id=\"arrow-ceaa67efb89d4719bb6b70139bfbb8d3-0-1\" stroke-width=\"2px\" d=\"M420,177.0 C420,89.5 570.0,89.5 570.0,177.0\" fill=\"none\" stroke=\"currentColor\"/>\n",
              "    <text dy=\"1.25em\" style=\"font-size: 0.8em; letter-spacing: 1px\">\n",
              "        <textPath xlink:href=\"#arrow-ceaa67efb89d4719bb6b70139bfbb8d3-0-1\" class=\"displacy-label\" startOffset=\"50%\" side=\"left\" fill=\"currentColor\" text-anchor=\"middle\">det</textPath>\n",
              "    </text>\n",
              "    <path class=\"displacy-arrowhead\" d=\"M420,179.0 L412,167.0 428,167.0\" fill=\"currentColor\"/>\n",
              "</g>\n",
              "\n",
              "<g class=\"displacy-arrow\">\n",
              "    <path class=\"displacy-arc\" id=\"arrow-ceaa67efb89d4719bb6b70139bfbb8d3-0-2\" stroke-width=\"2px\" d=\"M245,177.0 C245,2.0 575.0,2.0 575.0,177.0\" fill=\"none\" stroke=\"currentColor\"/>\n",
              "    <text dy=\"1.25em\" style=\"font-size: 0.8em; letter-spacing: 1px\">\n",
              "        <textPath xlink:href=\"#arrow-ceaa67efb89d4719bb6b70139bfbb8d3-0-2\" class=\"displacy-label\" startOffset=\"50%\" side=\"left\" fill=\"currentColor\" text-anchor=\"middle\">attr</textPath>\n",
              "    </text>\n",
              "    <path class=\"displacy-arrowhead\" d=\"M575.0,179.0 L583.0,167.0 567.0,167.0\" fill=\"currentColor\"/>\n",
              "</g>\n",
              "</svg></span>"
            ]
          },
          "metadata": {}
        },
        {
          "output_type": "display_data",
          "data": {
            "text/plain": [
              "<IPython.core.display.HTML object>"
            ]
          },
          "metadata": {}
        }
      ]
    },
    {
      "cell_type": "code",
      "source": [
        "import spacy\n",
        "from spacy import displacy\n",
        "from IPython.display import display, HTML\n",
        "\n",
        "# Load the spaCy model\n",
        "nlp = spacy.load('en_core_web_sm')\n",
        "\n",
        "# Process a sentence\n",
        "doc = nlp('''But Google is starting from behind. The company made a late push into hardware, and Apple’s Siri, available on iPhones, and Amazon’s Alexa\n",
        "software, which runs on its Echo and Dot devices, have clear leads in consumer adoption.''')\n",
        "\n",
        "# Visualize dependencies\n",
        "# displacy.serve(doc, style='ent')\n",
        "html = displacy.render(doc, style='ent', jupyter=True)\n",
        "display(HTML(html))"
      ],
      "metadata": {
        "id": "dwLOaGw-hKQx",
        "colab": {
          "base_uri": "https://localhost:8080/",
          "height": 104
        },
        "outputId": "431921fc-70a3-49ef-e9d7-2eb1788f9049"
      },
      "execution_count": 50,
      "outputs": [
        {
          "output_type": "display_data",
          "data": {
            "text/plain": [
              "<IPython.core.display.HTML object>"
            ],
            "text/html": [
              "<span class=\"tex2jax_ignore\"><div class=\"entities\" style=\"line-height: 2.5; direction: ltr\">But \n",
              "<mark class=\"entity\" style=\"background: #7aecec; padding: 0.45em 0.6em; margin: 0 0.25em; line-height: 1; border-radius: 0.35em;\">\n",
              "    Google\n",
              "    <span style=\"font-size: 0.8em; font-weight: bold; line-height: 1; border-radius: 0.35em; vertical-align: middle; margin-left: 0.5rem\">ORG</span>\n",
              "</mark>\n",
              " is starting from behind. The company made a late push into hardware, and \n",
              "<mark class=\"entity\" style=\"background: #7aecec; padding: 0.45em 0.6em; margin: 0 0.25em; line-height: 1; border-radius: 0.35em;\">\n",
              "    Apple\n",
              "    <span style=\"font-size: 0.8em; font-weight: bold; line-height: 1; border-radius: 0.35em; vertical-align: middle; margin-left: 0.5rem\">ORG</span>\n",
              "</mark>\n",
              "’s \n",
              "<mark class=\"entity\" style=\"background: #aa9cfc; padding: 0.45em 0.6em; margin: 0 0.25em; line-height: 1; border-radius: 0.35em;\">\n",
              "    Siri\n",
              "    <span style=\"font-size: 0.8em; font-weight: bold; line-height: 1; border-radius: 0.35em; vertical-align: middle; margin-left: 0.5rem\">PERSON</span>\n",
              "</mark>\n",
              ", available on \n",
              "<mark class=\"entity\" style=\"background: #7aecec; padding: 0.45em 0.6em; margin: 0 0.25em; line-height: 1; border-radius: 0.35em;\">\n",
              "    iPhones\n",
              "    <span style=\"font-size: 0.8em; font-weight: bold; line-height: 1; border-radius: 0.35em; vertical-align: middle; margin-left: 0.5rem\">ORG</span>\n",
              "</mark>\n",
              ", and \n",
              "<mark class=\"entity\" style=\"background: #7aecec; padding: 0.45em 0.6em; margin: 0 0.25em; line-height: 1; border-radius: 0.35em;\">\n",
              "    Amazon\n",
              "    <span style=\"font-size: 0.8em; font-weight: bold; line-height: 1; border-radius: 0.35em; vertical-align: middle; margin-left: 0.5rem\">ORG</span>\n",
              "</mark>\n",
              "’s \n",
              "<mark class=\"entity\" style=\"background: #7aecec; padding: 0.45em 0.6em; margin: 0 0.25em; line-height: 1; border-radius: 0.35em;\">\n",
              "    Alexa\n",
              "    <span style=\"font-size: 0.8em; font-weight: bold; line-height: 1; border-radius: 0.35em; vertical-align: middle; margin-left: 0.5rem\">ORG</span>\n",
              "</mark>\n",
              "<br>software, which runs on its \n",
              "<mark class=\"entity\" style=\"background: #ff9561; padding: 0.45em 0.6em; margin: 0 0.25em; line-height: 1; border-radius: 0.35em;\">\n",
              "    Echo\n",
              "    <span style=\"font-size: 0.8em; font-weight: bold; line-height: 1; border-radius: 0.35em; vertical-align: middle; margin-left: 0.5rem\">LOC</span>\n",
              "</mark>\n",
              " and Dot devices, have clear leads in consumer adoption.</div></span>"
            ]
          },
          "metadata": {}
        },
        {
          "output_type": "display_data",
          "data": {
            "text/plain": [
              "<IPython.core.display.HTML object>"
            ]
          },
          "metadata": {}
        }
      ]
    },
    {
      "cell_type": "markdown",
      "source": [
        "## Frequency Distribution: Word Cloud\n",
        "\n",
        "**Purpose**: Generate and display a word cloud image from a text file to visualize the frequency distribution of words."
      ],
      "metadata": {
        "id": "F7noeRFTi55s"
      }
    },
    {
      "cell_type": "code",
      "source": [
        "from wordcloud import WordCloud\n",
        "import matplotlib.pyplot as plt\n",
        "\n",
        "text= '''But Google is starting from behind. The company made a late push into  hardware, and Apple’s Siri, available on iPhones, and Amazon’s Alexa\n",
        "software, which runs on its Echo and Dot devices, have clear leads in consumer adoption.'''\n",
        "\n",
        "# Generate a word cloud image from the text\n",
        "wordcloud = WordCloud().generate(text)\n",
        "\n",
        "# Display the generated word cloud image\n",
        "plt.imshow(wordcloud, interpolation='bilinear')\n",
        "plt.axis(\"off\")"
      ],
      "metadata": {
        "id": "R37axU-Ih_U8",
        "colab": {
          "base_uri": "https://localhost:8080/",
          "height": 302
        },
        "outputId": "888a5291-5202-4319-9207-bb08d534beef"
      },
      "execution_count": 51,
      "outputs": [
        {
          "output_type": "execute_result",
          "data": {
            "text/plain": [
              "(-0.5, 399.5, 199.5, -0.5)"
            ]
          },
          "metadata": {},
          "execution_count": 51
        },
        {
          "output_type": "display_data",
          "data": {
            "text/plain": [
              "<Figure size 640x480 with 1 Axes>"
            ],
            "image/png": "[encoded data removed]"
          },
          "metadata": {}
        }
      ]
    },
    {
      "cell_type": "markdown",
      "source": [
        "## Frequency Distribution\n",
        "\n",
        "**Purpose**: Analyze and visualize the frequency distribution of words in a given text."
      ],
      "metadata": {
        "id": "v-odTix-oMoI"
      }
    },
    {
      "cell_type": "code",
      "source": [
        "from nltk.tokenize import word_tokenize\n",
        "from nltk.probability import FreqDist\n",
        "import matplotlib.pyplot as plt\n",
        "\n",
        "# Sample text\n",
        "text = \"\"\"Hello Mr. Smith, how are you doing today? The weather is great, and the city is\n",
        "awesome. The sky is pinkish-blue. You shouldn't eat cardboard\"\"\"\n",
        "\n",
        "# Tokenize the text into words\n",
        "tokenized_words = word_tokenize(text)\n",
        "\n",
        "# Calculate frequency distribution\n",
        "fdist = FreqDist(tokenized_words)\n",
        "\n",
        "# Display frequency distribution as a list of tuples (word, frequency)\n",
        "print(fdist.most_common())\n",
        "\n",
        "# Plot the frequency distribution\n",
        "plt.figure(figsize=(10, 6))\n",
        "plt.title('Frequency Distribution of Words')\n",
        "plt.xlabel('Words')\n",
        "plt.ylabel('Frequency')\n",
        "fdist.plot(30, cumulative=False)\n",
        "plt.show()"
      ],
      "metadata": {
        "id": "Do6NlNzWjMr8",
        "colab": {
          "base_uri": "https://localhost:8080/",
          "height": 671
        },
        "outputId": "a0db1931-9cae-4836-f490-12a3da50b363"
      },
      "execution_count": 52,
      "outputs": [
        {
          "output_type": "stream",
          "name": "stdout",
          "text": [
            "[('is', 3), (',', 2), ('The', 2), ('.', 2), ('Hello', 1), ('Mr.', 1), ('Smith', 1), ('how', 1), ('are', 1), ('you', 1), ('doing', 1), ('today', 1), ('?', 1), ('weather', 1), ('great', 1), ('and', 1), ('the', 1), ('city', 1), ('awesome', 1), ('sky', 1), ('pinkish-blue', 1), ('You', 1), ('should', 1), (\"n't\", 1), ('eat', 1), ('cardboard', 1)]\n"
          ]
        },
        {
          "output_type": "display_data",
          "data": {
            "text/plain": [
              "<Figure size 1000x600 with 1 Axes>"
            ],
            "image/png": "[encoded data removed]"
          },
          "metadata": {}
        }
      ]
    },
    {
      "cell_type": "code",
      "source": [
        "!pip install hazm"
      ],
      "metadata": {
        "id": "W96zqTAIoQqC",
        "colab": {
          "base_uri": "https://localhost:8080/"
        },
        "outputId": "0e14c478-2b97-48c9-9786-e85fba865d23"
      },
      "execution_count": 53,
      "outputs": [
        {
          "output_type": "stream",
          "name": "stdout",
          "text": [
            "Requirement already satisfied: hazm in /usr/local/lib/python3.10/dist-packages (0.10.0)\n",
            "Requirement already satisfied: fasttext-wheel<0.10.0,>=0.9.2 in /usr/local/lib/python3.10/dist-packages (from hazm) (0.9.2)\n",
            "Requirement already satisfied: flashtext<3.0,>=2.7 in /usr/local/lib/python3.10/dist-packages (from hazm) (2.7)\n",
            "Requirement already satisfied: gensim<5.0.0,>=4.3.1 in /usr/local/lib/python3.10/dist-packages (from hazm) (4.3.3)\n",
            "Requirement already satisfied: nltk<4.0.0,>=3.8.1 in /usr/local/lib/python3.10/dist-packages (from hazm) (3.9.1)\n",
            "Requirement already satisfied: numpy==1.24.3 in /usr/local/lib/python3.10/dist-packages (from hazm) (1.24.3)\n",
            "Requirement already satisfied: python-crfsuite<0.10.0,>=0.9.9 in /usr/local/lib/python3.10/dist-packages (from hazm) (0.9.11)\n",
            "Requirement already satisfied: scikit-learn<2.0.0,>=1.2.2 in /usr/local/lib/python3.10/dist-packages (from hazm) (1.5.2)\n",
            "Requirement already satisfied: pybind11>=2.2 in /usr/local/lib/python3.10/dist-packages (from fasttext-wheel<0.10.0,>=0.9.2->hazm) (2.13.6)\n",
            "Requirement already satisfied: setuptools>=0.7.0 in /usr/local/lib/python3.10/dist-packages (from fasttext-wheel<0.10.0,>=0.9.2->hazm) (75.1.0)\n",
            "Requirement already satisfied: scipy<1.14.0,>=1.7.0 in /usr/local/lib/python3.10/dist-packages (from gensim<5.0.0,>=4.3.1->hazm) (1.13.1)\n",
            "Requirement already satisfied: smart-open>=1.8.1 in /usr/local/lib/python3.10/dist-packages (from gensim<5.0.0,>=4.3.1->hazm) (7.0.5)\n",
            "Requirement already satisfied: click in /usr/local/lib/python3.10/dist-packages (from nltk<4.0.0,>=3.8.1->hazm) (8.1.7)\n",
            "Requirement already satisfied: joblib in /usr/local/lib/python3.10/dist-packages (from nltk<4.0.0,>=3.8.1->hazm) (1.4.2)\n",
            "Requirement already satisfied: regex>=2021.8.3 in /usr/local/lib/python3.10/dist-packages (from nltk<4.0.0,>=3.8.1->hazm) (2024.9.11)\n",
            "Requirement already satisfied: tqdm in /usr/local/lib/python3.10/dist-packages (from nltk<4.0.0,>=3.8.1->hazm) (4.66.6)\n",
            "Requirement already satisfied: threadpoolctl>=3.1.0 in /usr/local/lib/python3.10/dist-packages (from scikit-learn<2.0.0,>=1.2.2->hazm) (3.5.0)\n",
            "Requirement already satisfied: wrapt in /usr/local/lib/python3.10/dist-packages (from smart-open>=1.8.1->gensim<5.0.0,>=4.3.1->hazm) (1.16.0)\n"
          ]
        }
      ]
    },
    {
      "cell_type": "code",
      "source": [
        "from hazm import *"
      ],
      "metadata": {
        "id": "N3OQ7cAUkiQi"
      },
      "execution_count": 54,
      "outputs": []
    },
    {
      "cell_type": "code",
      "source": [
        "normalizer = Normalizer()\n",
        "normalizer.normalize('اصلاح نويسه ها و استفاده از نیم‌فاصله پردازش را آسان مي كند')"
      ],
      "metadata": {
        "colab": {
          "base_uri": "https://localhost:8080/",
          "height": 35
        },
        "id": "WO4reNNski-l",
        "outputId": "da626db6-23f2-4b48-9bff-07c2b68bb579"
      },
      "execution_count": 55,
      "outputs": [
        {
          "output_type": "execute_result",
          "data": {
            "text/plain": [
              "'اصلاح نویسه\\u200cها و استفاده از نیم\\u200cفاصله پردازش را آسان می\\u200cکند'"
            ],
            "application/vnd.google.colaboratory.intrinsic+json": {
              "type": "string"
            }
          },
          "metadata": {},
          "execution_count": 55
        }
      ]
    },
    {
      "cell_type": "code",
      "source": [
        "sent_tokenize('ما هم برای وصل کردن آمدیم! ولی برای پردازش، جدا بهتر نیست؟')"
      ],
      "metadata": {
        "colab": {
          "base_uri": "https://localhost:8080/"
        },
        "id": "YyvzCwL8kkvR",
        "outputId": "b5835728-0d53-480f-be36-19adecb6c63a"
      },
      "execution_count": 56,
      "outputs": [
        {
          "output_type": "execute_result",
          "data": {
            "text/plain": [
              "['ما هم برای وصل کردن آمدیم!', 'ولی برای پردازش، جدا بهتر نیست؟']"
            ]
          },
          "metadata": {},
          "execution_count": 56
        }
      ]
    },
    {
      "cell_type": "code",
      "source": [
        "word_tokenize('ولی برای پردازش، جدا بهتر نیست؟')"
      ],
      "metadata": {
        "colab": {
          "base_uri": "https://localhost:8080/"
        },
        "id": "dLP48_rXkngW",
        "outputId": "b2f433ce-6bda-4028-de94-8b15c2361b8e"
      },
      "execution_count": 57,
      "outputs": [
        {
          "output_type": "execute_result",
          "data": {
            "text/plain": [
              "['ولی', 'برای', 'پردازش', '،', 'جدا', 'بهتر', 'نیست', '؟']"
            ]
          },
          "metadata": {},
          "execution_count": 57
        }
      ]
    },
    {
      "cell_type": "code",
      "source": [
        "stemmer = Stemmer()\n",
        "stemmer.stem('کتاب‌ها')"
      ],
      "metadata": {
        "colab": {
          "base_uri": "https://localhost:8080/",
          "height": 35
        },
        "id": "qrj_MiIBkpx7",
        "outputId": "296e0455-f88b-42eb-9f7e-f4c21de993f3"
      },
      "execution_count": 58,
      "outputs": [
        {
          "output_type": "execute_result",
          "data": {
            "text/plain": [
              "'کتاب'"
            ],
            "application/vnd.google.colaboratory.intrinsic+json": {
              "type": "string"
            }
          },
          "metadata": {},
          "execution_count": 58
        }
      ]
    },
    {
      "cell_type": "code",
      "source": [
        "lemmatizer = Lemmatizer()\n",
        "lemmatizer.lemmatize('می‌روم')"
      ],
      "metadata": {
        "colab": {
          "base_uri": "https://localhost:8080/",
          "height": 35
        },
        "id": "HDHqHJrRkrr4",
        "outputId": "6aea5a55-7b9b-4c7f-8cef-eaf1e1b754bf"
      },
      "execution_count": 59,
      "outputs": [
        {
          "output_type": "execute_result",
          "data": {
            "text/plain": [
              "'رفت#رو'"
            ],
            "application/vnd.google.colaboratory.intrinsic+json": {
              "type": "string"
            }
          },
          "metadata": {},
          "execution_count": 59
        }
      ]
    },
    {
      "cell_type": "code",
      "source": [
        "import gdown\n",
        "\n",
        "# Google Drive file ID\n",
        "file_id = \"1Q3JK4NVUC2t5QT63aDiVrCRBV225E_B3\"\n",
        "\n",
        "# Construct the download URL\n",
        "download_url = f\"https://drive.google.com/uc?id={file_id}\"\n",
        "\n",
        "# Path where you want to save the file, including the new name\n",
        "output_path = \"postagger.model\"\n",
        "\n",
        "# Download the file\n",
        "gdown.download(download_url, output_path, quiet=False)\n",
        "\n",
        "print(\"File downloaded and renamed to 'postagger.model' successfully!\")\n"
      ],
      "metadata": {
        "colab": {
          "base_uri": "https://localhost:8080/"
        },
        "id": "mX9m1cHskzKk",
        "outputId": "55f3abac-4171-45b3-f09f-a0e944c8936b"
      },
      "execution_count": 60,
      "outputs": [
        {
          "output_type": "stream",
          "name": "stderr",
          "text": [
            "Downloading...\n",
            "From: https://drive.google.com/uc?id=1Q3JK4NVUC2t5QT63aDiVrCRBV225E_B3\n",
            "To: /content/postagger.model\n",
            "100%|██████████| 19.2M/19.2M [00:00<00:00, 93.4MB/s]"
          ]
        },
        {
          "output_type": "stream",
          "name": "stdout",
          "text": [
            "File downloaded and renamed to 'postagger.model' successfully!\n"
          ]
        },
        {
          "output_type": "stream",
          "name": "stderr",
          "text": [
            "\n"
          ]
        }
      ]
    },
    {
      "cell_type": "code",
      "source": [
        "tagger = POSTagger(model='postagger.model')\n",
        "tagger.tag(word_tokenize('ما بسیار کتاب می‌خوانیم'))"
      ],
      "metadata": {
        "colab": {
          "base_uri": "https://localhost:8080/"
        },
        "id": "7LhIiC7qk1C0",
        "outputId": "97458c5d-635b-4668-9d55-4df8b6d8a2cd"
      },
      "execution_count": 61,
      "outputs": [
        {
          "output_type": "execute_result",
          "data": {
            "text/plain": [
              "[('ما', 'PRON'),\n",
              " ('بسیار', 'ADV'),\n",
              " ('کتاب', 'NOUN'),\n",
              " ('می\\u200cخوانیم', 'VERB')]"
            ]
          },
          "metadata": {},
          "execution_count": 61
        }
      ]
    },
    {
      "cell_type": "code",
      "source": [],
      "metadata": {
        "id": "OmlZw1Lqmng1"
      },
      "execution_count": 61,
      "outputs": []
    }
  ]
}